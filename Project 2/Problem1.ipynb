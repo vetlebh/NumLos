{
 "cells": [
  {
   "cell_type": "code",
   "execution_count": 8,
   "metadata": {},
   "outputs": [],
   "source": [
    "import numpy as np\n",
    "import matplotlib.pyplot as plt"
   ]
  },
  {
   "cell_type": "code",
   "execution_count": 15,
   "metadata": {},
   "outputs": [],
   "source": [
    "from scipy.linalg import solve"
   ]
  },
  {
   "cell_type": "code",
   "execution_count": 34,
   "metadata": {},
   "outputs": [],
   "source": [
    "# Modified Crank-Nicholson scheme\n",
    "\n",
    "\n",
    "\n",
    "def central_diff(m):\n",
    "    \n",
    "    \"\"\" This function takes the number of gridpoints in the x-direction as input,\n",
    "    and returns a second order central difference matrix with respect to the \n",
    "    boundary conditions \"\"\"\n",
    "    \n",
    "    \n",
    "    d = np.eye(m, k=-1) - 2*np.eye(m, k=0) + np.eye(m, k=1)\n",
    "    \n",
    "    # Add Neumann boundary conditions dU/dx=0\n",
    "    d[0, :2] = [-2, 2]\n",
    "    d[-1, -2:] = [2, -2]\n",
    "    \n",
    "    return d\n",
    "    \n",
    "\n",
    "    \n",
    "def f(U_i):\n",
    "    return np.sin(U_i) - U_i/10\n",
    "    \n",
    "    \n",
    "\n",
    "def crank_nicholsen_x(U_0, h, k, mu, n=0, m=0):\n",
    "    \n",
    "    \"\"\" Solve reaction diffusion equations (u_t = mu * u_xx + f(u)).\n",
    "    Remember to modify the function f and the boundary conditions in function central_diff\"\"\"\n",
    "    \n",
    "    \n",
    "    r = mu*k/(h**2)\n",
    "    \n",
    "    \n",
    "    # Define matrices for implicit step\n",
    "    A = np.eye(m) - (r/2)*central_diff(m)\n",
    "    C = np.eye(m) + (r/2)*central_diff(m)\n",
    "\n",
    "    \n",
    "    # Initialize solution matrix\n",
    "    U = np.zeros((n, m))\n",
    "    print(U.shape)\n",
    "    \n",
    "    \n",
    "    # Initialize start distributions\n",
    "    U[0, :] = U_0\n",
    "    \n",
    "    \n",
    "    # Solve iteratively\n",
    "    for i in range(1, n):\n",
    "        \n",
    "        # Define b-vector for implicit step\n",
    "        b = C.dot(U[i-1, :]) + k*f(U[i-1, :])\n",
    "        \n",
    "        # Solve implicit steps\n",
    "        U_star = solve(A, b)\n",
    "        \n",
    "        # Solve explicit time steps\n",
    "        U[i, :] = U_star + (k/2) * (f(U_star)-f(U[i-1, :]))\n",
    "        \n",
    "    return U"
   ]
  },
  {
   "cell_type": "markdown",
   "metadata": {},
   "source": [
    "### Hyperparameters"
   ]
  },
  {
   "cell_type": "code",
   "execution_count": 35,
   "metadata": {},
   "outputs": [],
   "source": [
    "# -*- PARAMETERS -*-\n",
    "\n",
    "\n",
    "n = 400      # Number of timesteps \n",
    "m = 100      # Number of x-steps\n",
    "\n",
    "k = 0.05     # Stepsize in t\n",
    "h = 0.50     # Stepsize in x\n",
    "\n",
    "mu = 1.5\n",
    "\n",
    "# Initial distributions\n",
    "U_0 = np.arange(m)"
   ]
  },
  {
   "cell_type": "code",
   "execution_count": 36,
   "metadata": {},
   "outputs": [
    {
     "name": "stdout",
     "output_type": "stream",
     "text": [
      "(400, 100)\n"
     ]
    }
   ],
   "source": [
    "U = crank_nicholsen_x(U_0, h, k, mu, n=n, m=m)"
   ]
  },
  {
   "cell_type": "markdown",
   "metadata": {},
   "source": [
    "### Plot Solutions"
   ]
  },
  {
   "cell_type": "code",
   "execution_count": 38,
   "metadata": {},
   "outputs": [
    {
     "data": {
      "text/plain": [
       "Text(0, 0.5, 'time')"
      ]
     },
     "execution_count": 38,
     "metadata": {},
     "output_type": "execute_result"
    },
    {
     "data": {
      "image/png": "[encoded data removed]",
      "text/plain": [
       "<Figure size 432x288 with 1 Axes>"
      ]
     },
     "metadata": {
      "needs_background": "light"
     },
     "output_type": "display_data"
    }
   ],
   "source": [
    "plt.contourf(U)\n",
    "plt.xlabel(\"X\")\n",
    "plt.ylabel(\"time\")"
   ]
  }
 ],
 "metadata": {
  "kernelspec": {
   "display_name": "Python 3",
   "language": "python",
   "name": "python3"
  },
  "language_info": {
   "codemirror_mode": {
    "name": "ipython",
    "version": 3
   },
   "file_extension": ".py",
   "mimetype": "text/x-python",
   "name": "python",
   "nbconvert_exporter": "python",
   "pygments_lexer": "ipython3",
   "version": "3.8.1"
  }
 },
 "nbformat": 4,
 "nbformat_minor": 4
}
