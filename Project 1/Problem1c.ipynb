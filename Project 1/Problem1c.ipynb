{
 "cells": [
  {
   "cell_type": "code",
   "execution_count": 1,
   "metadata": {},
   "outputs": [],
   "source": [
    "import numpy as np\n",
    "import matplotlib.pyplot as plt\n",
    "import time"
   ]
  },
  {
   "cell_type": "code",
   "execution_count": 2,
   "metadata": {},
   "outputs": [],
   "source": [
    "from numpy import cos, sin\n",
    "from mpl_toolkits.mplot3d import Axes3D"
   ]
  },
  {
   "cell_type": "code",
   "execution_count": 3,
   "metadata": {},
   "outputs": [],
   "source": [
    "from scipy.linalg import solve    \n",
    "import scipy.sparse as sparse\n",
    "from scipy.sparse.linalg import spsolve "
   ]
  },
  {
   "cell_type": "code",
   "execution_count": 4,
   "metadata": {},
   "outputs": [],
   "source": [
    "from matplotlib import cm\n",
    "from matplotlib.ticker import LinearLocator, FormatStrFormatter"
   ]
  },
  {
   "cell_type": "markdown",
   "metadata": {},
   "source": [
    "### Parameters"
   ]
  },
  {
   "cell_type": "code",
   "execution_count": 5,
   "metadata": {},
   "outputs": [],
   "source": [
    "# Number of steps\n",
    "N = 4\n",
    "\n",
    "# mu\n",
    "mu = 1"
   ]
  },
  {
   "cell_type": "markdown",
   "metadata": {},
   "source": [
    "### Respective Functions"
   ]
  },
  {
   "cell_type": "code",
   "execution_count": 6,
   "metadata": {},
   "outputs": [],
   "source": [
    "# Solution function U and F\n",
    "\n",
    "def u(x, y):\n",
    "    return cos(x)**2 + sin(y)**2\n",
    "\n",
    "def f(x, y):\n",
    "    return 2*(cos(x)**2-sin(x)**2+sin(y)**2-cos(y)**2)"
   ]
  },
  {
   "cell_type": "code",
   "execution_count": 7,
   "metadata": {},
   "outputs": [],
   "source": [
    "# Funnctions representing the circular boundary\n",
    "\n",
    "def circle_y(x):\n",
    "    return np.sqrt(1-x**2)\n",
    "\n",
    "def circle_x(y):\n",
    "    return np.sqrt(1-y**2)"
   ]
  },
  {
   "cell_type": "code",
   "execution_count": 8,
   "metadata": {},
   "outputs": [],
   "source": [
    "# Boundaries along the x and y axis\n",
    "\n",
    "# y = 0\n",
    "def g_s(x):\n",
    "    return u(x, 0)\n",
    "\n",
    "# x = 0\n",
    "def g_w(y):\n",
    "    return u(0, y)"
   ]
  },
  {
   "cell_type": "code",
   "execution_count": 9,
   "metadata": {},
   "outputs": [],
   "source": [
    "# Boundaries along the circle\n",
    "\n",
    "def g_n(x):\n",
    "    y = circle_y(x)\n",
    "    return u(x, y)\n",
    "\n",
    "def g_e(y):\n",
    "    x = circle_x(y)\n",
    "    return u(x, y)"
   ]
  },
  {
   "cell_type": "code",
   "execution_count": 10,
   "metadata": {},
   "outputs": [],
   "source": [
    "# Distance from boundary\n",
    "\n",
    "def h_n(x, y):\n",
    "    return circle_y(x) - y\n",
    "\n",
    "def h_e(x, y):\n",
    "    return circle_x(y) - x"
   ]
  },
  {
   "cell_type": "code",
   "execution_count": 11,
   "metadata": {},
   "outputs": [],
   "source": [
    "def norm(x, y):\n",
    "    return x**2 + y**2"
   ]
  },
  {
   "cell_type": "markdown",
   "metadata": {},
   "source": [
    "### Find edges"
   ]
  },
  {
   "cell_type": "code",
   "execution_count": 12,
   "metadata": {},
   "outputs": [],
   "source": [
    "def east_edge(inner_points, Ni, Ni2):\n",
    "    array = np.zeros((Ni2), dtype=bool)\n",
    "    for i in range(Ni2):\n",
    "        if (inner_points[i] and (i+1)%Ni==0):\n",
    "            array[i] = True\n",
    "        elif (inner_points[i] and not inner_points[i+1]):\n",
    "            array[i] = True\n",
    "        else:\n",
    "            array[i] = False\n",
    "    return array\n",
    "\n",
    "\n",
    "def north_edge(inner_points, Ni, Ni2):\n",
    "    array = np.zeros((Ni2), dtype=bool)\n",
    "    for i in range(Ni2):\n",
    "        if (inner_points[i] and (i+1) > Ni2-Ni):\n",
    "            array[i] = True\n",
    "            \n",
    "        elif (inner_points[i] and not inner_points[i+Ni]):\n",
    "            array[i] = True\n",
    "        else:\n",
    "            array[i] = False\n",
    "    return array"
   ]
  },
  {
   "cell_type": "markdown",
   "metadata": {},
   "source": [
    "### Change Matrix for Edges"
   ]
  },
  {
   "cell_type": "code",
   "execution_count": 13,
   "metadata": {},
   "outputs": [],
   "source": [
    "def alter_edges(A, b, n_edge_points, e_edge_points, Xi_flat, Yi_flat, Ni, Ni2, h):\n",
    "    \n",
    "    # Fill out variable step length 5-point formula for edge points\n",
    "    for i in range(Ni2):\n",
    "        \n",
    "        if (i == (Ni-1) or i == (Ni2-Ni)):\n",
    "            \n",
    "            x, y = Xi_flat[i], Yi_flat[i]\n",
    "            hn = h_n(x, y)\n",
    "            he = h_e(x, y)\n",
    "\n",
    "            a_p = 2*mu*(1/(h*he) + 1/(h*hn))\n",
    "            a_e = -2*mu*(1/(h*he+he**2))\n",
    "            a_w = -2*mu*(1/(h**2+he*h))\n",
    "            a_n = -2*mu*(1/(h*hn+hn**2))\n",
    "            a_s = -2*mu*(1/(h**2+hn*h))\n",
    "            \n",
    "            A[i, i] = a_p\n",
    "            \n",
    "            if (i == (Ni-1)):\n",
    "                \n",
    "                A[i, i-1] = a_w\n",
    "\n",
    "                A[i, i+Ni] = a_n\n",
    "                \n",
    "                b[i] = b[i] - a_e*g_e(y) - a_s*g_s(x)\n",
    "                \n",
    "            \n",
    "            elif (i == (Ni2-Ni)):\n",
    "                \n",
    "                A[i, i+1] = a_e\n",
    "\n",
    "                A[i, i-Ni] = a_s\n",
    "                \n",
    "                b[i] = b[i] - a_n*g_n(x) - a_w*g_w(y)\n",
    "            \n",
    "        \n",
    "        else:\n",
    "            \n",
    "            if (n_edge_points[i] or e_edge_points[i]):\n",
    "\n",
    "                x, y = Xi_flat[i], Yi_flat[i]\n",
    "                hn = h_n(x, y)\n",
    "                he = h_e(x, y)\n",
    "\n",
    "                a_p = 2*mu*(1/(h*he) + 1/(h*hn))\n",
    "                a_e = -2*mu*(1/(h*he+he**2))\n",
    "                a_w = -2*mu*(1/(h**2+he*h))\n",
    "                a_n = -2*mu*(1/(h*hn+hn**2))\n",
    "                a_s = -2*mu*(1/(h**2+hn*h))\n",
    "\n",
    "\n",
    "            if (n_edge_points[i] and e_edge_points[i]):\n",
    "\n",
    "                A[i, i] = a_p      \n",
    "\n",
    "                if (i-1 > -1):\n",
    "                    A[i, i-1] = a_w\n",
    "\n",
    "                if (i-Ni > -1):\n",
    "                    A[i, i-Ni]= a_s\n",
    "\n",
    "                b[i] = b[i] - a_n*g_n(x) - a_e*g_e(y)\n",
    "\n",
    "\n",
    "\n",
    "            elif (n_edge_points[i]):\n",
    "\n",
    "                A[i, i] = a_p\n",
    "\n",
    "                if (i+1 < Ni2):\n",
    "                    A[i, i+1] = a_e\n",
    "\n",
    "                if (i-1 > -1):\n",
    "                    A[i, i-1] = a_w\n",
    "\n",
    "                if (i-Ni > -1):\n",
    "                    A[i, i-Ni] = a_s\n",
    "\n",
    "                b[i] = b[i] - a_n*g_n(x)\n",
    "\n",
    "\n",
    "\n",
    "            elif (e_edge_points[i]):\n",
    "\n",
    "                A[i, i] = a_p\n",
    "\n",
    "                if (i-1 > -1):\n",
    "                    A[i, i-1] = a_w\n",
    "\n",
    "                if (i+Ni < Ni2):\n",
    "                    A[i, i+Ni] = a_n\n",
    "\n",
    "                if (i-Ni > -1):\n",
    "                    A[i, i-Ni] = a_s\n",
    "\n",
    "                b[i] = b[i] - a_e*g_e(y)\n",
    "            \n",
    "            \n",
    "    return A, b"
   ]
  },
  {
   "cell_type": "markdown",
   "metadata": {},
   "source": [
    "### Build Diagonal Matrix"
   ]
  },
  {
   "cell_type": "code",
   "execution_count": 14,
   "metadata": {},
   "outputs": [],
   "source": [
    "def A_and_b(h, mu, Ni, Ni2, N, x, y):\n",
    "    \n",
    "    \n",
    "    # Inner points\n",
    "    xi = x[1:-1]       \n",
    "    yi = y[1:-1] \n",
    "    Xi, Yi = np.meshgrid(xi, yi)\n",
    "    X, Y = np.meshgrid(x, y)\n",
    "    Xi_flat, Yi_flat = Xi.flatten(), Yi.flatten()\n",
    "    \n",
    "    \n",
    "    # Find edge points\n",
    "    inner_points = (norm(Xi, Yi) < 1).flatten()\n",
    "    \n",
    "    n_edge_points = north_edge(inner_points, Ni, Ni2)\n",
    "    e_edge_points = east_edge(inner_points, Ni, Ni2)\n",
    "    \n",
    "\n",
    "    a_p = ((4 * mu) / h**2)*np.ones(Ni2)\n",
    "    a_e = (- mu/h**2)*np.ones(Ni2)\n",
    "    a_n = (- mu/h**2)*np.ones(Ni2)\n",
    "    a_w = (- mu/h**2)*np.ones(Ni2)\n",
    "    a_s = (- mu/h**2)*np.ones(Ni2)\n",
    "    \n",
    "    \n",
    "    # Add diagonals\n",
    "    diag = a_p * np.ones(Ni2)\n",
    "    A = np.diag(diag)\n",
    "    \n",
    "    diag1 = np.arange(Ni2-1)\n",
    "    A[diag1, diag1+1] = a_e[0:Ni2-1]\n",
    "    A[diag1+1, diag1] = a_w[1:Ni2]\n",
    "    \n",
    "    diag2 = np.arange(Ni2-Ni)\n",
    "    A[diag2, diag2+Ni] = a_n[0:Ni2-Ni]\n",
    "    A[diag2+Ni, diag2] = a_s[Ni:Ni2]\n",
    "    \n",
    "    \n",
    "    # Fill inn b vector\n",
    "    b = np.zeros(Ni2)\n",
    "    for j in range(Ni):\n",
    "        for i in range(Ni):\n",
    "            b[j*Ni + i] = f(xi[i], yi[j])\n",
    "            \n",
    "    \n",
    "    a_w_edge = (- mu/h**2)\n",
    "    a_s_edge = (- mu/h**2)\n",
    "    \n",
    "    \n",
    "    # Include the boundary conditions on x=0 and y=0\n",
    "    b[0:Ni] = b[0:Ni] - a_s_edge*g_s(xi)                        # y=0\n",
    "    b[0:Ni2:Ni] = b[0:Ni2:Ni] - a_w_edge*g_w(yi)                # x=0\n",
    "    \n",
    "    b[Ni-1] = b[Ni-1] + a_s_edge*g_s(xi[-1])                    # y=0\n",
    "    b[Ni2-Ni] = b[Ni2-Ni] + a_w_edge*g_w(yi[-1])                # x=0\n",
    "    \n",
    "    \n",
    "    # Alter A and b for circle edges\n",
    "    A, b = alter_edges(A, b, n_edge_points, e_edge_points, Xi_flat, Yi_flat, Ni, Ni2, h)\n",
    "    \n",
    "    \n",
    "    # Handle interior stack-edges\n",
    "    for i in range(1, Ni):\n",
    "        edge = i*Ni\n",
    "        A[edge-1, edge] = 0\n",
    "        A[edge, edge-1] = 0\n",
    "    \n",
    "    \n",
    "    A = A[inner_points, :]\n",
    "    A = A[:, inner_points]\n",
    "    b = b[inner_points]\n",
    "    \n",
    "    \n",
    "    return A, b, inner_points"
   ]
  },
  {
   "cell_type": "markdown",
   "metadata": {},
   "source": [
    "### Solve Function"
   ]
  },
  {
   "cell_type": "code",
   "execution_count": 15,
   "metadata": {},
   "outputs": [],
   "source": [
    "def pde_solve(N, mu):\n",
    "    \n",
    "    \n",
    "    # Time run\n",
    "    start = time.time()\n",
    "    \n",
    "    \n",
    "    # Step size\n",
    "    h = 1/N\n",
    "    \n",
    "    \n",
    "    # Make grid\n",
    "    x = np.linspace(0, 1, N+1)\n",
    "    y = np.linspace(0, 1, N+1) \n",
    "    X, Y = np.meshgrid(x, y)\n",
    "    Ni = N-1       # Number of inner points in each direction\n",
    "    Ni2 = Ni**2    # Number of inner points in total\n",
    "\n",
    "    \n",
    "    # Exact Solution\n",
    "    U_exact = u(X, Y)\n",
    "    U_exact[norm(X, Y) > 1] = 0\n",
    "    \n",
    "    \n",
    "    # Create A matrix\n",
    "    A, b, inner_points = A_and_b(h, mu, Ni, Ni2, N, x, y)\n",
    "    \n",
    "    \n",
    "    # Use sparce matrix format\n",
    "    A = sparse.csr_matrix(A)\n",
    "    A = A.tocsr()\n",
    "    \n",
    "    \n",
    "    # Solve system numerically\n",
    "    U = spsolve(A, b)\n",
    "    \n",
    "    \n",
    "    # Add the edges and set points outside domain to zero\n",
    "    j = 0\n",
    "    temp = np.zeros(Ni2)\n",
    "    for i in range(Ni2):\n",
    "        if (inner_points[i]):\n",
    "            temp[i] = U[j]\n",
    "            j+=1\n",
    "            \n",
    "    U = np.reshape(temp, (Ni, Ni))\n",
    "    \n",
    "    \n",
    "    # Add edges to solution\n",
    "    U = np.pad(U, pad_width=1, mode='constant', constant_values=0)\n",
    "    U[0, :] = g_s(x)\n",
    "    U[:, 0] = g_w(y)\n",
    "    U[norm(X, Y) > 1] = 0\n",
    "    \n",
    "    \n",
    "    error = np.max(np.abs(U-U_exact))\n",
    "    \n",
    "    \n",
    "    #Print the error\n",
    "    print(f'The steplength is {1}/{N}. The error is: {error}. Runtime total: {time.time()-start}')\n",
    "    \n",
    "    \n",
    "    return U, U_exact, X, Y, h"
   ]
  },
  {
   "cell_type": "markdown",
   "metadata": {},
   "source": [
    "### Solve System"
   ]
  },
  {
   "cell_type": "code",
   "execution_count": 16,
   "metadata": {},
   "outputs": [
    {
     "name": "stdout",
     "output_type": "stream",
     "text": [
      "98\n",
      "9702\n",
      "The steplength is 1/100. The error is: 1.594702381082157. Runtime total: 4.178781270980835\n"
     ]
    }
   ],
   "source": [
    "U, U_exact, X, Y, h = pde_solve(100, mu)"
   ]
  },
  {
   "cell_type": "markdown",
   "metadata": {},
   "source": [
    "### Plot Results"
   ]
  },
  {
   "cell_type": "code",
   "execution_count": 19,
   "metadata": {},
   "outputs": [
    {
     "data": {
      "image/png": "[encoded data removed]",
      "text/plain": [
       "<Figure size 864x360 with 2 Axes>"
      ]
     },
     "metadata": {
      "needs_background": "light"
     },
     "output_type": "display_data"
    }
   ],
   "source": [
    "fig, (ax1, ax2) = plt.subplots(1, 2, figsize=(12,5))\n",
    "ax1.contourf(X, Y, U)\n",
    "ax1.title.set_text('Numerical Solution')\n",
    "ax2.contourf(X, Y, U_exact)\n",
    "ax2.title.set_text('Exact Solution')"
   ]
  },
  {
   "cell_type": "code",
   "execution_count": 21,
   "metadata": {},
   "outputs": [
    {
     "data": {
      "image/png": "[encoded data removed]",
      "text/plain": [
       "<Figure size 576x288 with 2 Axes>"
      ]
     },
     "metadata": {
      "needs_background": "light"
     },
     "output_type": "display_data"
    }
   ],
   "source": [
    "fig = plt.figure(figsize=plt.figaspect(0.5))\n",
    "\n",
    "#===============\n",
    "#  First subplot\n",
    "#===============\n",
    "# set up the axes for the first plot\n",
    "ax = fig.add_subplot(1, 1, 1, projection='3d')\n",
    "\n",
    "# plot a 3D surface like in the example mplot3d/surface3d_demo\n",
    "surf = ax.plot_surface(X, Y, U, rstride=1, cstride=1, cmap=cm.coolwarm,\n",
    "                       linewidth=0, antialiased=False)\n",
    "ax.set_zlim(0, 2.0)\n",
    "fig.colorbar(surf, shrink=0.5, aspect=10)\n",
    "ax.title.set_text('Numerical Solution for h= ' + str(h))\n",
    "ax.set_ylabel('y axis')\n",
    "ax.set_xlabel('x axis')\n",
    "plt.savefig('1c.pdf')"
   ]
  },
  {
   "cell_type": "code",
   "execution_count": 22,
   "metadata": {},
   "outputs": [],
   "source": [
    "\n",
    "def convergence(P, N, mu=1, v1=0, v2=0):\n",
    "    P = P   # Number of different stepsizes\n",
    "    Hconv = np.zeros(P) #list of stepsizes (x-axis)\n",
    "    Econv = np.zeros(P) #list of errors (y-axis)\n",
    "    N = N  # The least number of intervals (#grid points-1)\n",
    "    for p in range(P):\n",
    "        U, U_exact, X, Y, h = pde_solve(N, mu)\n",
    "        Eh = U_exact-U \n",
    "        Econv[p] = np.max(np.abs(Eh))\n",
    "        Hconv[p] = h #the stepsize for y and x direction are the same\n",
    "        N = N*2  # Double the number of intervals\n",
    "    order = np.polyfit(np.log(Hconv),np.log(Econv),1)[0]   # Measure the order - returns highest power first\n",
    "    return Hconv, Econv, order"
   ]
  },
  {
   "cell_type": "code",
   "execution_count": 23,
   "metadata": {},
   "outputs": [
    {
     "name": "stdout",
     "output_type": "stream",
     "text": [
      "2\n",
      "6\n",
      "The steplength is 1/4. The error is: 0.025765204824010235. Runtime total: 0.0035300254821777344\n",
      "6\n",
      "42\n",
      "The steplength is 1/8. The error is: 0.013956109792445437. Runtime total: 0.004509925842285156\n",
      "14\n",
      "210\n",
      "The steplength is 1/16. The error is: 0.006579899440932291. Runtime total: 0.008054018020629883\n",
      "30\n",
      "930\n",
      "The steplength is 1/32. The error is: 0.0037513227313986097. Runtime total: 0.03584599494934082\n",
      "62\n",
      "3906\n",
      "The steplength is 1/64. The error is: 0.0019500036572732693. Runtime total: 0.4934689998626709\n",
      "126\n",
      "16002\n",
      "The steplength is 1/128. The error is: 0.0010408970751399904. Runtime total: 14.728761911392212\n",
      "254\n",
      "64770\n",
      "The steplength is 1/256. The error is: 0.0004928032726193576. Runtime total: 442.68987703323364\n"
     ]
    },
    {
     "data": {
      "image/png": "[encoded data removed]",
      "text/plain": [
       "<Figure size 432x288 with 1 Axes>"
      ]
     },
     "metadata": {
      "needs_background": "light"
     },
     "output_type": "display_data"
    }
   ],
   "source": [
    "#convergence plot\n",
    "H, E, p = convergence(7, 4)\n",
    "plt.loglog(H,E,'o-', label='p={:.2f}'.format(p))\n",
    "#plt.loglog(H,H*np.exp(1),'--',label='upper bound') # fyll inn upper bound (teoretisk her)\n",
    "plt.grid('on')\n",
    "plt.xlabel('h')\n",
    "plt.ylabel('error')\n",
    "plt.legend()\n",
    "plt.savefig('1c_convergence.pdf')"
   ]
  }
 ],
 "metadata": {
  "kernelspec": {
   "display_name": "Python 3",
   "language": "python",
   "name": "python3"
  },
  "language_info": {
   "codemirror_mode": {
    "name": "ipython",
    "version": 3
   },
   "file_extension": ".py",
   "mimetype": "text/x-python",
   "name": "python",
   "nbconvert_exporter": "python",
   "pygments_lexer": "ipython3",
   "version": "3.8.1"
  }
 },
 "nbformat": 4,
 "nbformat_minor": 4
}
