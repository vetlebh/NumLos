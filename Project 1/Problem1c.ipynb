{
 "cells": [
  {
   "cell_type": "code",
   "execution_count": 22,
   "metadata": {},
   "outputs": [],
   "source": [
    "import numpy as np\n",
    "import matplotlib.pyplot as plt"
   ]
  },
  {
   "cell_type": "code",
   "execution_count": 23,
   "metadata": {},
   "outputs": [],
   "source": [
    "N = 4\n",
    "h = 1/(N+1)"
   ]
  },
  {
   "cell_type": "markdown",
   "metadata": {},
   "source": [
    "### Create Grid"
   ]
  },
  {
   "cell_type": "code",
   "execution_count": 24,
   "metadata": {},
   "outputs": [],
   "source": [
    "# Make grid\n",
    "x = np.linspace(0, 1, N+1)\n",
    "y = np.linspace(0, 1, N+1) \n",
    "\n",
    "# Inner points\n",
    "xi = x[1:-1]       \n",
    "yi = y[1:-1] \n",
    "Xi, Yi = np.meshgrid(xi, yi)\n",
    "Ni = N-1       # Number of inner points in each direction\n",
    "Ni2 = Ni**2    # Number of inner points in total"
   ]
  },
  {
   "cell_type": "code",
   "execution_count": 25,
   "metadata": {},
   "outputs": [
    {
     "data": {
      "image/png": "[encoded data removed]",
      "text/plain": [
       "<Figure size 432x432 with 1 Axes>"
      ]
     },
     "metadata": {
      "needs_background": "light"
     },
     "output_type": "display_data"
    }
   ],
   "source": [
    "t = np.linspace(0,np.pi/2,100)\n",
    "ax, fig = plt.subplots(1, figsize=(6,6))\n",
    "plt.plot(np.cos(t), np.sin(t), color='b')\n",
    "plt.plot(x, np.zeros(N+1), color='b')\n",
    "plt.plot(np.zeros(N+1), y, color='b')\n",
    "plt.xticks(x)\n",
    "plt.yticks(y)\n",
    "plt.grid(b=True, which='major')\n",
    "plt.show()"
   ]
  },
  {
   "cell_type": "code",
   "execution_count": null,
   "metadata": {},
   "outputs": [],
   "source": []
  },
  {
   "cell_type": "code",
   "execution_count": null,
   "metadata": {},
   "outputs": [],
   "source": []
  },
  {
   "cell_type": "code",
   "execution_count": null,
   "metadata": {},
   "outputs": [],
   "source": []
  }
 ],
 "metadata": {
  "kernelspec": {
   "display_name": "Python 3",
   "language": "python",
   "name": "python3"
  },
  "language_info": {
   "codemirror_mode": {
    "name": "ipython",
    "version": 3
   },
   "file_extension": ".py",
   "mimetype": "text/x-python",
   "name": "python",
   "nbconvert_exporter": "python",
   "pygments_lexer": "ipython3",
   "version": "3.8.1"
  }
 },
 "nbformat": 4,
 "nbformat_minor": 4
}
