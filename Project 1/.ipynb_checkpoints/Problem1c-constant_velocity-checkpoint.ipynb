{
 "cells": [
  {
   "cell_type": "code",
   "execution_count": 1,
   "metadata": {},
   "outputs": [],
   "source": [
    "import numpy as np\n",
    "import matplotlib.pyplot as plt\n",
    "import time"
   ]
  },
  {
   "cell_type": "code",
   "execution_count": 2,
   "metadata": {},
   "outputs": [],
   "source": [
    "from numpy import cos, sin\n",
    "from mpl_toolkits.mplot3d import Axes3D"
   ]
  },
  {
   "cell_type": "code",
   "execution_count": 3,
   "metadata": {},
   "outputs": [],
   "source": [
    "from scipy.linalg import solve    \n",
    "import scipy.sparse as sparse\n",
    "from scipy.sparse.linalg import spsolve "
   ]
  },
  {
   "cell_type": "markdown",
   "metadata": {},
   "source": [
    "### Parameters"
   ]
  },
  {
   "cell_type": "code",
   "execution_count": 4,
   "metadata": {},
   "outputs": [],
   "source": [
    "# Number of steps\n",
    "N = 4\n",
    "\n",
    "# mu\n",
    "mu = 1"
   ]
  },
  {
   "cell_type": "code",
   "execution_count": 5,
   "metadata": {},
   "outputs": [],
   "source": [
    "# Velocity field\n",
    "\n",
    "#def v1(x, y):\n",
    "    #return x + y\n",
    "    \n",
    "#def v2(x, y):\n",
    "    #return y - x"
   ]
  },
  {
   "cell_type": "markdown",
   "metadata": {},
   "source": [
    "### Respective Functions"
   ]
  },
  {
   "cell_type": "code",
   "execution_count": 6,
   "metadata": {},
   "outputs": [],
   "source": [
    "# Solution function U and F\n",
    "\n",
    "#def u(x, y):\n",
    "    #return sin(x)*sin(y)\n",
    "\n",
    "#def f(x, y):\n",
    "    #return 2*sin(x)*sin(y)\n",
    "    \n",
    "def u(x, y):\n",
    "    return x**2 + 2*y**2\n",
    "    \n",
    "def f(x, y):\n",
    "    return -6"
   ]
  },
  {
   "cell_type": "code",
   "execution_count": 7,
   "metadata": {},
   "outputs": [],
   "source": [
    "# Funnctions representing the circular boundary\n",
    "\n",
    "def circle_y(x):\n",
    "    return np.sqrt(1-x**2)\n",
    "\n",
    "def circle_x(y):\n",
    "    return np.sqrt(1-y**2)"
   ]
  },
  {
   "cell_type": "code",
   "execution_count": 8,
   "metadata": {},
   "outputs": [],
   "source": [
    "# Boundaries along the x and y axis\n",
    "\n",
    "# y = 0\n",
    "def g_s(x):\n",
    "    return u(x, 0)\n",
    "\n",
    "# x = 0\n",
    "def g_w(y):\n",
    "    return u(0, y)"
   ]
  },
  {
   "cell_type": "code",
   "execution_count": 9,
   "metadata": {},
   "outputs": [],
   "source": [
    "# Boundaries along the circle\n",
    "\n",
    "def g_n(x):\n",
    "    y = circle_y(x)\n",
    "    return u(x, y)\n",
    "\n",
    "def g_e(y):\n",
    "    x = circle_x(y)\n",
    "    return u(x, y)"
   ]
  },
  {
   "cell_type": "code",
   "execution_count": 10,
   "metadata": {},
   "outputs": [],
   "source": [
    "# Distance from boundary\n",
    "\n",
    "def h_n(x, y):\n",
    "    return circle_y(x) - y\n",
    "\n",
    "def h_e(x, y):\n",
    "    return circle_x(y) - x"
   ]
  },
  {
   "cell_type": "code",
   "execution_count": 11,
   "metadata": {},
   "outputs": [],
   "source": [
    "def norm(x, y):\n",
    "    return x**2 + y**2"
   ]
  },
  {
   "cell_type": "markdown",
   "metadata": {},
   "source": [
    "### Find edges"
   ]
  },
  {
   "cell_type": "code",
   "execution_count": 12,
   "metadata": {},
   "outputs": [],
   "source": [
    "def east_edge(inner_points, Ni, Ni2):\n",
    "    array = np.zeros((Ni2), dtype=bool)\n",
    "    for i in range(Ni2):\n",
    "        if (inner_points[i] and (i+1)%Ni==0):\n",
    "            array[i] = True\n",
    "        elif (inner_points[i] and not inner_points[i+1]):\n",
    "            array[i] = True\n",
    "        else:\n",
    "            array[i] = False\n",
    "    return array\n",
    "\n",
    "\n",
    "def north_edge(inner_points, Ni, Ni2):\n",
    "    array = np.zeros((Ni2), dtype=bool)\n",
    "    for i in range(Ni2):\n",
    "        if (inner_points[i] and (i+1) > Ni2-Ni):\n",
    "            array[i] = True\n",
    "            \n",
    "        elif (inner_points[i] and not inner_points[i+Ni]):\n",
    "            array[i] = True\n",
    "        else:\n",
    "            array[i] = False\n",
    "    return array"
   ]
  },
  {
   "cell_type": "markdown",
   "metadata": {},
   "source": [
    "### Change Matrix for Edges"
   ]
  },
  {
   "cell_type": "code",
   "execution_count": 17,
   "metadata": {},
   "outputs": [],
   "source": [
    "def alter_edges(A, b, n_edge_points, e_edge_points, Xi_flat, Yi_flat, Ni, Ni2, h):\n",
    "    \n",
    "    # Fill out variable step length 5-point formula for edge points\n",
    "    for i in range(Ni2):\n",
    "        \n",
    "        if (i == (Ni-1) or i == (Ni2-Ni)):\n",
    "            \n",
    "            print(i)\n",
    "            \n",
    "            x, y = Xi_flat[i], Yi_flat[i]\n",
    "            hn = h_n(x, y)\n",
    "            he = h_e(x, y)\n",
    "\n",
    "            a_p = 2*mu*(1/(h*he) + 1/(h*hn))\n",
    "            a_e = -2*mu*(1/(h*he+he**2))\n",
    "            a_w = -2*mu*(1/(h**2+he*h))\n",
    "            a_n = -2*mu*(1/(h*hn+hn**2))\n",
    "            a_s = -2*mu*(1/(h**2+hn*h))\n",
    "            \n",
    "            A[i, i] = a_p\n",
    "            \n",
    "            if (i == (Ni-1)):\n",
    "                \n",
    "                A[i, i-1] = a_w\n",
    "\n",
    "                A[i, i+Ni] = a_n\n",
    "                \n",
    "                b[i] = b[i] - a_e*g_e(y) - a_s*g_s(x)\n",
    "                \n",
    "            \n",
    "            elif (i == (Ni2-Ni)):\n",
    "                \n",
    "                A[i, i+1] = a_e\n",
    "\n",
    "                A[i, i-Ni] = a_s\n",
    "                \n",
    "                b[i] = b[i] - a_n*g_n(x) - a_w*g_w(y)\n",
    "            \n",
    "        \n",
    "        else:\n",
    "            \n",
    "            if (n_edge_points[i] or e_edge_points[i]):\n",
    "\n",
    "                x, y = Xi_flat[i], Yi_flat[i]\n",
    "                hn = h_n(x, y)\n",
    "                he = h_e(x, y)\n",
    "\n",
    "                a_p = 2*mu*(1/(h*he) + 1/(h*hn))\n",
    "                a_e = -2*mu*(1/(h*he+he**2))\n",
    "                a_w = -2*mu*(1/(h**2+he*h))\n",
    "                a_n = -2*mu*(1/(h*hn+hn**2))\n",
    "                a_s = -2*mu*(1/(h**2+hn*h))\n",
    "\n",
    "\n",
    "            if (n_edge_points[i] and e_edge_points[i]):\n",
    "\n",
    "                A[i, i] = a_p      \n",
    "\n",
    "                if (i-1 > -1):\n",
    "                    A[i, i-1] = a_w\n",
    "\n",
    "                if (i-Ni > -1):\n",
    "                    A[i, i-Ni]= a_s\n",
    "\n",
    "                b[i] = b[i] - a_n*g_n(x) - a_e*g_e(y)\n",
    "\n",
    "\n",
    "\n",
    "            elif (n_edge_points[i]):\n",
    "\n",
    "                A[i, i] = a_p\n",
    "\n",
    "                if (i+1 < Ni2):\n",
    "                    A[i, i+1] = a_e\n",
    "\n",
    "                if (i-1 > -1):\n",
    "                    A[i, i-1] = a_w\n",
    "\n",
    "                if (i-Ni > -1):\n",
    "                    A[i, i-Ni] = a_s\n",
    "\n",
    "                b[i] = b[i] - a_n*g_n(x)\n",
    "\n",
    "\n",
    "\n",
    "            elif (e_edge_points[i]):\n",
    "\n",
    "                A[i, i] = a_p\n",
    "\n",
    "                if (i-1 > -1):\n",
    "                    A[i, i-1] = a_w\n",
    "\n",
    "                if (i+Ni < Ni2):\n",
    "                    A[i, i+Ni] = a_n\n",
    "\n",
    "                if (i-Ni > -1):\n",
    "                    A[i, i-Ni] = a_s\n",
    "\n",
    "                b[i] = b[i] - a_e*g_e(y)\n",
    "            \n",
    "            \n",
    "    return A, b"
   ]
  },
  {
   "cell_type": "markdown",
   "metadata": {},
   "source": [
    "### Build Diagonal Matrix"
   ]
  },
  {
   "cell_type": "code",
   "execution_count": 14,
   "metadata": {},
   "outputs": [],
   "source": [
    "def A_and_b(h, mu, Ni, Ni2, N, x, y):\n",
    "    \n",
    "    \n",
    "    # Inner points\n",
    "    xi = x[1:-1]       \n",
    "    yi = y[1:-1] \n",
    "    Xi, Yi = np.meshgrid(xi, yi)\n",
    "    X, Y = np.meshgrid(x, y)\n",
    "    Xi_flat, Yi_flat = Xi.flatten(), Yi.flatten()\n",
    "    \n",
    "    #V1 = v1(Xi, Yi)\n",
    "    #V2 = v2(Xi, Yi)\n",
    "    \n",
    "    \n",
    "    # Find edge points\n",
    "    inner_points = (norm(Xi, Yi) < 1).flatten()\n",
    "    \n",
    "    n_edge_points = north_edge(inner_points, Ni, Ni2)\n",
    "    e_edge_points = east_edge(inner_points, Ni, Ni2)\n",
    "    \n",
    "\n",
    "    #print(inner_points.reshape((Ni,Ni)))\n",
    "    #print(edge_points.reshape((Ni,Ni)))\n",
    "    \n",
    "    \n",
    "    # Coefficients\n",
    "    #a_p = (4 * mu) / h**2\n",
    "    #a_e = (- mu/h**2 + V1/(2*h)).flatten()\n",
    "    #a_n = (- mu/h**2 + V2/(2*h)).flatten()\n",
    "    #a_w = (- mu/h**2 - V1/(2*h)).flatten()\n",
    "    #a_s = (- mu/h**2 - V2/(2*h)).flatten()\n",
    "    \n",
    "    a_p = ((4 * mu) / h**2)*np.ones(Ni2)\n",
    "    a_e = (- mu/h**2)*np.ones(Ni2)\n",
    "    a_n = (- mu/h**2)*np.ones(Ni2)\n",
    "    a_w = (- mu/h**2)*np.ones(Ni2)\n",
    "    a_s = (- mu/h**2)*np.ones(Ni2)\n",
    "    \n",
    "    \n",
    "    # Add diagonals\n",
    "    diag = a_p * np.ones(Ni2)\n",
    "    A = np.diag(diag)\n",
    "    \n",
    "    diag1 = np.arange(Ni2-1)\n",
    "    A[diag1, diag1+1] = a_e[0:Ni2-1]\n",
    "    A[diag1+1, diag1] = a_w[1:Ni2]\n",
    "    \n",
    "    diag2 = np.arange(Ni2-Ni)\n",
    "    A[diag2, diag2+Ni] = a_n[0:Ni2-Ni]\n",
    "    A[diag2+Ni, diag2] = a_s[Ni:Ni2]\n",
    "    \n",
    "    \n",
    "    # Fill inn b vector\n",
    "    b = np.zeros(Ni2)\n",
    "    for j in range(Ni):\n",
    "        for i in range(Ni):\n",
    "            b[j*Ni + i] = f(xi[i], yi[j])\n",
    "            \n",
    "    # Coefficients edges\n",
    "    #a_e_edge = (- mu/h**2 + V1_e/(2*h)).flatten()\n",
    "    #a_n_edge = (- mu/h**2 + V2_n/(2*h)).flatten()\n",
    "    #a_w_edge = (- mu/h**2 - V1_w/(2*h)).flatten()\n",
    "    #a_s_edge = (- mu/h**2 - V2_s/(2*h)).flatten()\n",
    "    \n",
    "    a_w_edge = (- mu/h**2)\n",
    "    a_s_edge = (- mu/h**2)\n",
    "    \n",
    "    \n",
    "    # Include the boundary conditions on x=0 and y=0\n",
    "    b[0:Ni] = b[0:Ni] - a_s_edge*g_s(xi)                        # y=0\n",
    "    b[0:Ni2:Ni] = b[0:Ni2:Ni] - a_w_edge*g_w(yi)                # x=0\n",
    "    \n",
    "    b[Ni-1] = b[Ni-1] + a_s_edge*g_s(xi[-1])                    # y=0\n",
    "    b[Ni2-Ni] = b[Ni2-Ni] + a_w_edge*g_w(yi[-1])                # x=0\n",
    "    \n",
    "    \n",
    "    # Alter A and b for circle edges\n",
    "    A, b = alter_edges(A, b, n_edge_points, e_edge_points, Xi_flat, Yi_flat, Ni, Ni2, h)\n",
    "    \n",
    "    \n",
    "    # Handle interior stack-edges\n",
    "    for i in range(1, Ni):\n",
    "        edge = i*Ni\n",
    "        A[edge-1, edge] = 0\n",
    "        A[edge, edge-1] = 0\n",
    "    \n",
    "    \n",
    "    #V2_s = v2(X[0,1:-1], Y[0, 1:-1])\n",
    "    #V1_w = v1(X[1:-1,0], Y[1:-1, 0])\n",
    "    #V2_n = v2(X[N,1:-1], Y[N, 1:-1])\n",
    "    #V1_e = v1(X[1:-1,N], Y[1:-1, N])\n",
    "    \n",
    "    \n",
    "    \n",
    "    A = A[inner_points, :]\n",
    "    A = A[:, inner_points]\n",
    "    b = b[inner_points]\n",
    "    \n",
    "    \n",
    "    return A, b, inner_points"
   ]
  },
  {
   "cell_type": "markdown",
   "metadata": {},
   "source": [
    "### Solve Function"
   ]
  },
  {
   "cell_type": "code",
   "execution_count": 15,
   "metadata": {},
   "outputs": [],
   "source": [
    "def pde_solve(N, mu):\n",
    "    \n",
    "    \n",
    "    # Time run\n",
    "    start = time.time()\n",
    "    \n",
    "    \n",
    "    # Step size\n",
    "    h = 1/N\n",
    "    \n",
    "    \n",
    "    # Make grid\n",
    "    x = np.linspace(0, 1, N+1)\n",
    "    y = np.linspace(0, 1, N+1) \n",
    "    X, Y = np.meshgrid(x, y)\n",
    "    Ni = N-1       # Number of inner points in each direction\n",
    "    Ni2 = Ni**2    # Number of inner points in total\n",
    "\n",
    "    \n",
    "    # Exact Solution\n",
    "    U_exact = u(X, Y)\n",
    "    U_exact[norm(X, Y) > 1] = 0\n",
    "    \n",
    "    \n",
    "    # Create A matrix\n",
    "    A, b, inner_points = A_and_b(h, mu, Ni, Ni2, N, x, y)\n",
    "    \n",
    "    \n",
    "    # Use sparce matrix format\n",
    "    A = sparse.csr_matrix(A)\n",
    "    A = A.tocsr()\n",
    "    \n",
    "    \n",
    "    # Solve system numerically\n",
    "    U = spsolve(A, b)\n",
    "    \n",
    "    \n",
    "    # Add the edges and set points outside domain to zero\n",
    "    j = 0\n",
    "    temp = np.zeros(Ni2)\n",
    "    for i in range(Ni2):\n",
    "        if (inner_points[i]):\n",
    "            temp[i] = U[j]\n",
    "            j+=1\n",
    "            \n",
    "    U = np.reshape(temp, (Ni, Ni))\n",
    "    \n",
    "    \n",
    "    # Add edges to solution\n",
    "    U = np.pad(U, pad_width=1, mode='constant', constant_values=0)\n",
    "    U[0, :] = g_s(x)\n",
    "    U[:, 0] = g_w(y)\n",
    "    U[norm(X, Y) > 1] = 0\n",
    "    \n",
    "    \n",
    "    error = np.max(np.max(abs(U-U_exact)))\n",
    "    \n",
    "    \n",
    "    #Print the error\n",
    "    print(f'The steplength is {1}/{N}. The error is: {error}. Runtime total: {time.time()-start}')\n",
    "    \n",
    "    \n",
    "    return U, U_exact, X, Y, h"
   ]
  },
  {
   "cell_type": "markdown",
   "metadata": {},
   "source": [
    "### Solve System"
   ]
  },
  {
   "cell_type": "code",
   "execution_count": 16,
   "metadata": {},
   "outputs": [
    {
     "name": "stdout",
     "output_type": "stream",
     "text": [
      "48\n"
     ]
    },
    {
     "ename": "NameError",
     "evalue": "name 'h' is not defined",
     "output_type": "error",
     "traceback": [
      "\u001b[0;31m---------------------------------------------------------------------------\u001b[0m",
      "\u001b[0;31mNameError\u001b[0m                                 Traceback (most recent call last)",
      "\u001b[0;32m<ipython-input-16-506c22b0fa63>\u001b[0m in \u001b[0;36m<module>\u001b[0;34m\u001b[0m\n\u001b[0;32m----> 1\u001b[0;31m \u001b[0mU\u001b[0m\u001b[0;34m,\u001b[0m \u001b[0mU_exact\u001b[0m\u001b[0;34m,\u001b[0m \u001b[0mX\u001b[0m\u001b[0;34m,\u001b[0m \u001b[0mY\u001b[0m\u001b[0;34m,\u001b[0m \u001b[0mh\u001b[0m \u001b[0;34m=\u001b[0m \u001b[0mpde_solve\u001b[0m\u001b[0;34m(\u001b[0m\u001b[0;36m50\u001b[0m\u001b[0;34m,\u001b[0m \u001b[0mmu\u001b[0m\u001b[0;34m)\u001b[0m\u001b[0;34m\u001b[0m\u001b[0;34m\u001b[0m\u001b[0m\n\u001b[0m",
      "\u001b[0;32m<ipython-input-15-caae6a006416>\u001b[0m in \u001b[0;36mpde_solve\u001b[0;34m(N, mu)\u001b[0m\n\u001b[1;32m     24\u001b[0m \u001b[0;34m\u001b[0m\u001b[0m\n\u001b[1;32m     25\u001b[0m     \u001b[0;31m# Create A matrix\u001b[0m\u001b[0;34m\u001b[0m\u001b[0;34m\u001b[0m\u001b[0;34m\u001b[0m\u001b[0m\n\u001b[0;32m---> 26\u001b[0;31m     \u001b[0mA\u001b[0m\u001b[0;34m,\u001b[0m \u001b[0mb\u001b[0m\u001b[0;34m,\u001b[0m \u001b[0minner_points\u001b[0m \u001b[0;34m=\u001b[0m \u001b[0mA_and_b\u001b[0m\u001b[0;34m(\u001b[0m\u001b[0mh\u001b[0m\u001b[0;34m,\u001b[0m \u001b[0mmu\u001b[0m\u001b[0;34m,\u001b[0m \u001b[0mNi\u001b[0m\u001b[0;34m,\u001b[0m \u001b[0mNi2\u001b[0m\u001b[0;34m,\u001b[0m \u001b[0mN\u001b[0m\u001b[0;34m,\u001b[0m \u001b[0mx\u001b[0m\u001b[0;34m,\u001b[0m \u001b[0my\u001b[0m\u001b[0;34m)\u001b[0m\u001b[0;34m\u001b[0m\u001b[0;34m\u001b[0m\u001b[0m\n\u001b[0m\u001b[1;32m     27\u001b[0m \u001b[0;34m\u001b[0m\u001b[0m\n\u001b[1;32m     28\u001b[0m \u001b[0;34m\u001b[0m\u001b[0m\n",
      "\u001b[0;32m<ipython-input-14-617a2d3906f4>\u001b[0m in \u001b[0;36mA_and_b\u001b[0;34m(h, mu, Ni, Ni2, N, x, y)\u001b[0m\n\u001b[1;32m     76\u001b[0m \u001b[0;34m\u001b[0m\u001b[0m\n\u001b[1;32m     77\u001b[0m     \u001b[0;31m# Alter A and b for circle edges\u001b[0m\u001b[0;34m\u001b[0m\u001b[0;34m\u001b[0m\u001b[0;34m\u001b[0m\u001b[0m\n\u001b[0;32m---> 78\u001b[0;31m     \u001b[0mA\u001b[0m\u001b[0;34m,\u001b[0m \u001b[0mb\u001b[0m \u001b[0;34m=\u001b[0m \u001b[0malter_edges\u001b[0m\u001b[0;34m(\u001b[0m\u001b[0mA\u001b[0m\u001b[0;34m,\u001b[0m \u001b[0mb\u001b[0m\u001b[0;34m,\u001b[0m \u001b[0mn_edge_points\u001b[0m\u001b[0;34m,\u001b[0m \u001b[0me_edge_points\u001b[0m\u001b[0;34m,\u001b[0m \u001b[0mXi_flat\u001b[0m\u001b[0;34m,\u001b[0m \u001b[0mYi_flat\u001b[0m\u001b[0;34m,\u001b[0m \u001b[0mNi\u001b[0m\u001b[0;34m,\u001b[0m \u001b[0mNi2\u001b[0m\u001b[0;34m)\u001b[0m\u001b[0;34m\u001b[0m\u001b[0;34m\u001b[0m\u001b[0m\n\u001b[0m\u001b[1;32m     79\u001b[0m \u001b[0;34m\u001b[0m\u001b[0m\n\u001b[1;32m     80\u001b[0m \u001b[0;34m\u001b[0m\u001b[0m\n",
      "\u001b[0;32m<ipython-input-13-dd6880f83e0a>\u001b[0m in \u001b[0;36malter_edges\u001b[0;34m(A, b, n_edge_points, e_edge_points, Xi_flat, Yi_flat, Ni, Ni2)\u001b[0m\n\u001b[1;32m     12\u001b[0m             \u001b[0mhe\u001b[0m \u001b[0;34m=\u001b[0m \u001b[0mh_e\u001b[0m\u001b[0;34m(\u001b[0m\u001b[0mx\u001b[0m\u001b[0;34m,\u001b[0m \u001b[0my\u001b[0m\u001b[0;34m)\u001b[0m\u001b[0;34m\u001b[0m\u001b[0;34m\u001b[0m\u001b[0m\n\u001b[1;32m     13\u001b[0m \u001b[0;34m\u001b[0m\u001b[0m\n\u001b[0;32m---> 14\u001b[0;31m             \u001b[0ma_p\u001b[0m \u001b[0;34m=\u001b[0m \u001b[0;36m2\u001b[0m\u001b[0;34m*\u001b[0m\u001b[0mmu\u001b[0m\u001b[0;34m*\u001b[0m\u001b[0;34m(\u001b[0m\u001b[0;36m1\u001b[0m\u001b[0;34m/\u001b[0m\u001b[0;34m(\u001b[0m\u001b[0mh\u001b[0m\u001b[0;34m*\u001b[0m\u001b[0mhe\u001b[0m\u001b[0;34m)\u001b[0m \u001b[0;34m+\u001b[0m \u001b[0;36m1\u001b[0m\u001b[0;34m/\u001b[0m\u001b[0;34m(\u001b[0m\u001b[0mh\u001b[0m\u001b[0;34m*\u001b[0m\u001b[0mhn\u001b[0m\u001b[0;34m)\u001b[0m\u001b[0;34m)\u001b[0m\u001b[0;34m\u001b[0m\u001b[0;34m\u001b[0m\u001b[0m\n\u001b[0m\u001b[1;32m     15\u001b[0m             \u001b[0ma_e\u001b[0m \u001b[0;34m=\u001b[0m \u001b[0;34m-\u001b[0m\u001b[0;36m2\u001b[0m\u001b[0;34m*\u001b[0m\u001b[0mmu\u001b[0m\u001b[0;34m*\u001b[0m\u001b[0;34m(\u001b[0m\u001b[0;36m1\u001b[0m\u001b[0;34m/\u001b[0m\u001b[0;34m(\u001b[0m\u001b[0mh\u001b[0m\u001b[0;34m*\u001b[0m\u001b[0mhe\u001b[0m\u001b[0;34m+\u001b[0m\u001b[0mhe\u001b[0m\u001b[0;34m**\u001b[0m\u001b[0;36m2\u001b[0m\u001b[0;34m)\u001b[0m\u001b[0;34m)\u001b[0m\u001b[0;34m\u001b[0m\u001b[0;34m\u001b[0m\u001b[0m\n\u001b[1;32m     16\u001b[0m             \u001b[0ma_w\u001b[0m \u001b[0;34m=\u001b[0m \u001b[0;34m-\u001b[0m\u001b[0;36m2\u001b[0m\u001b[0;34m*\u001b[0m\u001b[0mmu\u001b[0m\u001b[0;34m*\u001b[0m\u001b[0;34m(\u001b[0m\u001b[0;36m1\u001b[0m\u001b[0;34m/\u001b[0m\u001b[0;34m(\u001b[0m\u001b[0mh\u001b[0m\u001b[0;34m**\u001b[0m\u001b[0;36m2\u001b[0m\u001b[0;34m+\u001b[0m\u001b[0mhe\u001b[0m\u001b[0;34m*\u001b[0m\u001b[0mh\u001b[0m\u001b[0;34m)\u001b[0m\u001b[0;34m)\u001b[0m\u001b[0;34m\u001b[0m\u001b[0;34m\u001b[0m\u001b[0m\n",
      "\u001b[0;31mNameError\u001b[0m: name 'h' is not defined"
     ]
    }
   ],
   "source": [
    "U, U_exact, X, Y, h = pde_solve(50, mu)"
   ]
  },
  {
   "cell_type": "code",
   "execution_count": null,
   "metadata": {},
   "outputs": [],
   "source": [
    "print(U, U_exact)"
   ]
  },
  {
   "cell_type": "markdown",
   "metadata": {},
   "source": [
    "### Plot Problem"
   ]
  },
  {
   "cell_type": "code",
   "execution_count": null,
   "metadata": {},
   "outputs": [],
   "source": [
    "# Make grid\n",
    "N = (8)\n",
    "\n",
    "x = np.linspace(0, 1, N+1)\n",
    "y = np.linspace(0, 1, N+1) \n",
    "\n",
    "# Inner points\n",
    "xi = x[1:-1]       \n",
    "yi = y[1:-1] \n",
    "Xi, Yi = np.meshgrid(xi, yi)\n",
    "Ni = N-1       # Number of inner points in each direction\n",
    "Ni2 = Ni**2    # Number of inner points in total\n",
    "\n",
    "t = np.linspace(0,np.pi/2,100)\n",
    "ax, fig = plt.subplots(1, figsize=(6,6))\n",
    "plt.plot(np.cos(t), np.sin(t), color='b')\n",
    "plt.plot(x, np.zeros(N+1), color='b')\n",
    "plt.plot(np.zeros(N+1), y, color='b')\n",
    "plt.xticks(x)\n",
    "plt.yticks(y)\n",
    "plt.grid(b=True, which='major')\n",
    "plt.show()"
   ]
  },
  {
   "cell_type": "markdown",
   "metadata": {},
   "source": [
    "### Plot Results"
   ]
  },
  {
   "cell_type": "code",
   "execution_count": null,
   "metadata": {},
   "outputs": [],
   "source": [
    "fig, (ax1, ax2) = plt.subplots(1, 2, figsize=(12,5))\n",
    "ax1.contourf(X, Y, U)\n",
    "ax1.title.set_text('Numerical Solution')\n",
    "ax2.contourf(X, Y, U_exact)\n",
    "ax2.title.set_text('Exact Solution')"
   ]
  },
  {
   "cell_type": "code",
   "execution_count": null,
   "metadata": {},
   "outputs": [],
   "source": []
  },
  {
   "cell_type": "code",
   "execution_count": null,
   "metadata": {},
   "outputs": [],
   "source": []
  },
  {
   "cell_type": "code",
   "execution_count": null,
   "metadata": {},
   "outputs": [],
   "source": [
    "fig= plt.figure()\n",
    "ax = fig.add_subplot(111, projection='3d')\n",
    "ax.plot_surface(X, Y, U)"
   ]
  },
  {
   "cell_type": "code",
   "execution_count": null,
   "metadata": {},
   "outputs": [],
   "source": []
  },
  {
   "cell_type": "code",
   "execution_count": null,
   "metadata": {},
   "outputs": [],
   "source": []
  }
 ],
 "metadata": {
  "kernelspec": {
   "display_name": "Python 3",
   "language": "python",
   "name": "python3"
  },
  "language_info": {
   "codemirror_mode": {
    "name": "ipython",
    "version": 3
   },
   "file_extension": ".py",
   "mimetype": "text/x-python",
   "name": "python",
   "nbconvert_exporter": "python",
   "pygments_lexer": "ipython3",
   "version": "3.8.1"
  }
 },
 "nbformat": 4,
 "nbformat_minor": 4
}
