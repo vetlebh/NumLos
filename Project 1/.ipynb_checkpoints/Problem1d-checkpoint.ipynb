{
 "cells": [
  {
   "cell_type": "code",
   "execution_count": 3,
   "metadata": {},
   "outputs": [],
   "source": [
    "import numpy as np\n",
    "from matplotlib import pyplot as plt"
   ]
  },
  {
   "cell_type": "markdown",
   "metadata": {},
   "source": [
    "### Parameters"
   ]
  },
  {
   "cell_type": "code",
   "execution_count": 4,
   "metadata": {},
   "outputs": [],
   "source": [
    "# Number of steps\n",
    "N = 4\n",
    "\n",
    "# mu\n",
    "mu = e-2\n",
    "\n",
    "# v vector\n",
    "v1 = 1\n",
    "v2 = 0"
   ]
  },
  {
   "cell_type": "markdown",
   "metadata": {},
   "source": [
    "### Respective functions"
   ]
  },
  {
   "cell_type": "code",
   "execution_count": 7,
   "metadata": {},
   "outputs": [],
   "source": [
    "def u(x, y):\n",
    "    return 0\n",
    "\n",
    "def f(x, y):\n",
    "    return 1\n",
    "\n",
    "# y = 1\n",
    "def g_n(x):\n",
    "    return x**2 + 2\n",
    "\n",
    "# y = 0\n",
    "def g_s(x):\n",
    "    return x**2\n",
    "\n",
    "# x = 0\n",
    "def g_w(y):\n",
    "    return 2*(y**2)\n",
    "\n",
    "# x = 1\n",
    "def g_e(y):\n",
    "    return 1 + 2*(y**2)\n",
    "    "
   ]
  },
  {
   "cell_type": "markdown",
   "metadata": {},
   "source": [
    "### Solutions"
   ]
  },
  {
   "cell_type": "code",
   "execution_count": 32,
   "metadata": {},
   "outputs": [
    {
     "name": "stdout",
     "output_type": "stream",
     "text": [
      "\n",
      "U=\n",
      " [[0.03 0.06 0.11 0.18 0.27 0.38 0.51 0.66 0.83]\n",
      " [0.09 0.12 0.17 0.24 0.33 0.44 0.57 0.72 0.89]\n",
      " [0.19 0.22 0.27 0.34 0.43 0.54 0.67 0.82 0.99]\n",
      " [0.33 0.36 0.41 0.48 0.57 0.68 0.81 0.96 1.13]\n",
      " [0.51 0.54 0.59 0.66 0.75 0.86 0.99 1.14 1.31]\n",
      " [0.73 0.76 0.81 0.88 0.97 1.08 1.21 1.36 1.53]\n",
      " [0.99 1.02 1.07 1.14 1.23 1.34 1.47 1.62 1.79]\n",
      " [1.29 1.32 1.37 1.44 1.53 1.64 1.77 1.92 2.09]\n",
      " [1.63 1.66 1.71 1.78 1.87 1.98 2.11 2.26 2.43]]\n",
      "The error is 1.55e-15\n"
     ]
    }
   ],
   "source": [
    "U, U_exact, Xi, Yi = pde_solve(10, h, mu, v1, v2)"
   ]
  },
  {
   "cell_type": "markdown",
   "metadata": {},
   "source": [
    "### Build Diagonal Matrix"
   ]
  },
  {
   "cell_type": "code",
   "execution_count": 9,
   "metadata": {},
   "outputs": [],
   "source": [
    "def A_matrix(h, mu, Ni, Ni2, a_p, a_s, a_w, a_e, a_n):\n",
    "    \n",
    "    A_0  = a_p  * np.eye(Ni2, k=0)\n",
    "    A_R1 = a_e * np.eye(Ni2, k=1)\n",
    "    A_RN = a_n * np.eye(Ni2, k=Ni)\n",
    "    A_L1 = a_w * np.eye(Ni2, k=-1)\n",
    "    A_LN = a_s * np.eye(Ni2, k=-Ni)\n",
    "    \n",
    "    return A_0 + A_R1 + A_RN + A_L1 + A_LN"
   ]
  },
  {
   "cell_type": "markdown",
   "metadata": {},
   "source": [
    "### Solver Function"
   ]
  },
  {
   "cell_type": "code",
   "execution_count": 31,
   "metadata": {},
   "outputs": [],
   "source": [
    "def pde_solve(N, h, mu, v1, v2):\n",
    "    \n",
    "    # Step size\n",
    "    h = 1/N\n",
    "    \n",
    "    # Make grid\n",
    "    x = np.linspace(0, 1, N+1)\n",
    "    y = np.linspace(0, 1, N+1) \n",
    "\n",
    "    # Inner points\n",
    "    xi = x[1:-1]       \n",
    "    yi = y[1:-1] \n",
    "    Xi, Yi = np.meshgrid(xi, yi)\n",
    "    Ni = N-1       # Number of inner points in each direction\n",
    "    Ni2 = Ni**2    # Number of inner points in total\n",
    "    \n",
    "    # Exact Solution (MUST BE CHANGED IF U IS CHANGED)\n",
    "    U_exact = Xi**2 + 2*Yi**2\n",
    "    \n",
    "    # Coefficients\n",
    "    a_p = (4 * mu) / h**2\n",
    "    a_e = - mu/h**2 + v1/(2*h)\n",
    "    a_n = - mu/h**2 + v2/(2*h)\n",
    "    a_w = - mu/h**2 - v1/(2*h)\n",
    "    a_s = - mu/h**2 - v2/(2*h)\n",
    "    \n",
    "    # Create A matrix\n",
    "    A = A_matrix(h, mu, Ni, Ni2, a_p, a_s, a_w, a_e, a_n)\n",
    "    \n",
    "    # Handle interior stack-edges\n",
    "    for i in range(1, Ni):\n",
    "        edge = i*Ni\n",
    "        A[edge-1, edge] = 0\n",
    "        A[edge, edge-1] = 0\n",
    "            \n",
    "    # Fill inn b vector\n",
    "    b = np.zeros(Ni2)\n",
    "    for j in range(Ni):\n",
    "        for i in range(Ni):\n",
    "            b[j*Ni + i] = f(x[i+1], y[j+1])\n",
    "        \n",
    "    # Include the boundary conditions\n",
    "    b[0:Ni] = b[0:Ni] - a_s*g_s(xi)                        # y=0\n",
    "    b[Ni2-Ni:Ni2] = b[Ni2-Ni:Ni2] - a_n*g_n(xi)            # y=1\n",
    "    b[0:Ni2:Ni] = b[0:Ni2:Ni] - a_w*g_w(yi)                # x=0\n",
    "    b[Ni-1:Ni2:Ni] = b[Ni-1:Ni2:Ni] - a_e*g_e(yi)          # x=1\n",
    "    \n",
    "    # Solve system numerically\n",
    "    U = np.linalg.solve(A, b)\n",
    "    U = np.reshape(U, (Ni, Ni))\n",
    "    \n",
    "    # Print the error\n",
    "    print('\\nU=\\n', U)\n",
    "    print('The error is {:.2e}'.format(np.max(np.max(abs(U-U_exact)))))\n",
    "    \n",
    "    return U, U_exact, Xi, Yi"
   ]
  },
  {
   "cell_type": "markdown",
   "metadata": {},
   "source": [
    "### Plot Results"
   ]
  },
  {
   "cell_type": "code",
   "execution_count": 42,
   "metadata": {},
   "outputs": [
    {
     "data": {
      "image/png": "[encoded data removed]",
      "text/plain": [
       "<Figure size 864x360 with 2 Axes>"
      ]
     },
     "metadata": {
      "needs_background": "light"
     },
     "output_type": "display_data"
    }
   ],
   "source": [
    "fig, (ax1, ax2) = plt.subplots(1, 2, figsize=(12,5))\n",
    "ax1.contourf(Xi, Yi, U)\n",
    "ax1.title.set_text('Numerical Solution')\n",
    "ax2.contourf(Xi, Yi, U_exact)\n",
    "ax2.title.set_text('Exact Solution')"
   ]
  }
 ],
 "metadata": {
  "kernelspec": {
   "display_name": "Python 3",
   "language": "python",
   "name": "python3"
  },
  "language_info": {
   "codemirror_mode": {
    "name": "ipython",
    "version": 3
   },
   "file_extension": ".py",
   "mimetype": "text/x-python",
   "name": "python",
   "nbconvert_exporter": "python",
   "pygments_lexer": "ipython3",
   "version": "3.7.4"
  }
 },
 "nbformat": 4,
 "nbformat_minor": 4
}
