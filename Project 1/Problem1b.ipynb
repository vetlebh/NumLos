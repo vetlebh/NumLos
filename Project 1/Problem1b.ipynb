{
 "cells": [
  {
   "cell_type": "code",
   "execution_count": null,
   "metadata": {},
   "outputs": [],
   "source": [
    "import numpy as np\n",
    "from matplotlib import pyplot as plt"
   ]
  },
  {
   "cell_type": "markdown",
   "metadata": {},
   "source": [
    "### Parameters"
   ]
  },
  {
   "cell_type": "code",
   "execution_count": null,
   "metadata": {},
   "outputs": [],
   "source": [
    "# Number of steps\n",
    "N = 4\n",
    "\n",
    "# mu\n",
    "mu = 1\n",
    "\n",
    "# v vector\n",
    "v1 = 0\n",
    "v2 = 0"
   ]
  },
  {
   "cell_type": "markdown",
   "metadata": {},
   "source": [
    "### Respective functions"
   ]
  },
  {
   "cell_type": "code",
   "execution_count": 28,
   "metadata": {},
   "outputs": [],
   "source": [
    "def u(x, y):\n",
    "    return np.sin(x)*np.cos(y)\n",
    "\n",
    "def f(x, y):\n",
    "    return 2*np.sin(x)*np.cos(y)\n",
    "\n",
    "# y = 1\n",
    "def g_n(x):\n",
    "    return 2*np.sin(x)*np.cos(1)\n",
    "\n",
    "# y = 0\n",
    "def g_s(x):\n",
    "    return 2*np.sin(x)\n",
    "\n",
    "# x = 0\n",
    "def g_w(y):\n",
    "    return 0\n",
    "\n",
    "# x = 1\n",
    "def g_e(y):\n",
    "    return 2*np.sin(1)*np.cos(y)\n",
    "    "
   ]
  },
  {
   "cell_type": "markdown",
   "metadata": {},
   "source": [
    "### Build Diagonal Matrix"
   ]
  },
  {
   "cell_type": "code",
   "execution_count": 29,
   "metadata": {},
   "outputs": [],
   "source": [
    "def A_matrix(h, mu, Ni, Ni2, a_p, a_s, a_w, a_e, a_n):\n",
    "    \n",
    "    A_0  = a_p  * np.eye(Ni2, k=0)\n",
    "    A_R1 = a_e * np.eye(Ni2, k=1)\n",
    "    A_RN = a_n * np.eye(Ni2, k=Ni)\n",
    "    A_L1 = a_w * np.eye(Ni2, k=-1)\n",
    "    A_LN = a_s * np.eye(Ni2, k=-Ni)\n",
    "    \n",
    "    return A_0 + A_R1 + A_RN + A_L1 + A_LN"
   ]
  },
  {
   "cell_type": "markdown",
   "metadata": {},
   "source": [
    "### Solver Function"
   ]
  },
  {
   "cell_type": "code",
   "execution_count": 30,
   "metadata": {},
   "outputs": [],
   "source": [
    "def pde_solve(N, mu, v1, v2):\n",
    "    \n",
    "    # Step size\n",
    "    h = 1/N\n",
    "    \n",
    "    # Make grid\n",
    "    x = np.linspace(0, 1, N+1)\n",
    "    y = np.linspace(0, 1, N+1) \n",
    "\n",
    "    # Inner points\n",
    "    xi = x[1:-1]       \n",
    "    yi = y[1:-1] \n",
    "    Xi, Yi = np.meshgrid(xi, yi)\n",
    "    Ni = N-1       # Number of inner points in each direction\n",
    "    Ni2 = Ni**2    # Number of inner points in total\n",
    "    \n",
    "    # Exact Solution (MUST BE CHANGED IF U IS CHANGED)\n",
    "    U_exact = np.sin(Xi)*np.cos(Yi)\n",
    "\n",
    "\n",
    "    \n",
    "    # Coefficients\n",
    "    a_p = (4 * mu) / h**2\n",
    "    a_e = - mu/h**2 + v1/(2*h)\n",
    "    a_n = - mu/h**2 + v2/(2*h)\n",
    "    a_w = - mu/h**2 - v1/(2*h)\n",
    "    a_s = - mu/h**2 - v2/(2*h)\n",
    "    \n",
    "    # Create A matrix\n",
    "    A = A_matrix(h, mu, Ni, Ni2, a_p, a_s, a_w, a_e, a_n)\n",
    "    \n",
    "    # Handle interior stack-edges\n",
    "    for i in range(1, Ni):\n",
    "        edge = i*Ni\n",
    "        A[edge-1, edge] = 0\n",
    "        A[edge, edge-1] = 0\n",
    "            \n",
    "    # Fill inn b vector\n",
    "    b = np.zeros(Ni2)\n",
    "    for j in range(Ni):\n",
    "        for i in range(Ni):\n",
    "            b[j*Ni + i] = f(x[i+1], y[j+1])\n",
    "        \n",
    "    # Include the boundary conditions\n",
    "    b[0:Ni] = b[0:Ni] - a_s*g_s(xi)                        # y=0\n",
    "    b[Ni2-Ni:Ni2] = b[Ni2-Ni:Ni2] - a_n*g_n(xi)            # y=1\n",
    "    b[0:Ni2:Ni] = b[0:Ni2:Ni] - a_w*g_w(yi)                # x=0\n",
    "    b[Ni-1:Ni2:Ni] = b[Ni-1:Ni2:Ni] - a_e*g_e(yi)          # x=1\n",
    "    \n",
    "    # Solve system numerically\n",
    "    U = np.linalg.solve(A, b)\n",
    "    U = np.reshape(U, (Ni, Ni))\n",
    "    \n",
    "    # Print the error\n",
    "    #print('\\nU=\\n', U)\n",
    "    #print('The error is {:.2e}'.format(np.max(np.max(abs(U-U_exact)))))\n",
    "    \n",
    "    return U, U_exact, Xi, Yi, h"
   ]
  },
  {
   "cell_type": "markdown",
   "metadata": {},
   "source": [
    "### Solutions"
   ]
  },
  {
   "cell_type": "code",
   "execution_count": 31,
   "metadata": {},
   "outputs": [],
   "source": [
    "U, U_exact, Xi, Yi, h = pde_solve(10, mu, v1, v2)"
   ]
  },
  {
   "cell_type": "markdown",
   "metadata": {},
   "source": [
    "### Plot Results"
   ]
  },
  {
   "cell_type": "code",
   "execution_count": 32,
   "metadata": {},
   "outputs": [
    {
     "data": {
      "image/png": "[encoded data removed]",
      "text/plain": [
       "<Figure size 864x360 with 2 Axes>"
      ]
     },
     "metadata": {
      "needs_background": "light"
     },
     "output_type": "display_data"
    }
   ],
   "source": [
    "fig, (ax1, ax2) = plt.subplots(1, 2, figsize=(12,5))\n",
    "ax1.contourf(Xi, Yi, U)\n",
    "ax1.title.set_text('Numerical Solution')\n",
    "ax2.contourf(Xi, Yi, U_exact)\n",
    "ax2.title.set_text('Exact Solution')"
   ]
  },
  {
   "cell_type": "markdown",
   "metadata": {},
   "source": [
    "### Problem 1 b - Error analysis \n",
    "#### Numerical verification"
   ]
  },
  {
   "cell_type": "code",
   "execution_count": 33,
   "metadata": {},
   "outputs": [],
   "source": [
    "# We want to measure the error for different stepsizes. \n",
    "\n",
    "def convergence(mu, v1, v2):\n",
    "    P = 4   # Number of different stepsizes\n",
    "    Hconv = np.zeros(P) #list of stepsizes (x-axis)\n",
    "    Econv = np.zeros(P) #list of errors (y-axis)\n",
    "    N = 10  # The least number of intervals (#grid points-1)\n",
    "    for p in range(P):\n",
    "        U, U_exact, Xi, Yi, h = pde_solve(N, mu, v1, v2)\n",
    "        Eh = U_exact-U \n",
    "        Econv[p] = np.max(np.abs(Eh))\n",
    "        Hconv[p] = h #the stepsize for y and x direction are the same\n",
    "        N =N*2  # Double the number of intervals\n",
    "    order = np.polyfit(np.log(Hconv),np.log(Econv),1)[0]   # Measure the order - returns highest power first\n",
    "    return Hconv, Econv, order"
   ]
  },
  {
   "cell_type": "markdown",
   "metadata": {},
   "source": [
    "We will now choose a new test problem.\n",
    "Here, the problem is adapted to the exact solution $u(x)=x\\cdot e^x$. \n",
    "According to the theoretical result, this would then give an upper bound for the error for the function is \n",
    "$$\\frac{5}{24}h^2e^x$$"
   ]
  },
  {
   "cell_type": "code",
   "execution_count": 35,
   "metadata": {},
   "outputs": [
    {
     "data": {
      "text/plain": [
       "<matplotlib.legend.Legend at 0x11c663190>"
      ]
     },
     "execution_count": 35,
     "metadata": {},
     "output_type": "execute_result"
    },
    {
     "data": {
      "image/png": "[encoded data removed]",
      "text/plain": [
       "<Figure size 432x288 with 1 Axes>"
      ]
     },
     "metadata": {
      "needs_background": "light"
     },
     "output_type": "display_data"
    }
   ],
   "source": [
    "#convergence plot\n",
    "H, E, p = convergence(mu=1, v1=0, v2=0)\n",
    "plt.loglog(H,E,'o-', label='p={:.2f}'.format(p))\n",
    "plt.loglog(H,H*np.exp(1),'--',label='upper bound') # fyll inn upper bound (teoretisk her)\n",
    "plt.grid('on')\n",
    "plt.xlabel('h')\n",
    "plt.ylabel('error')\n",
    "plt.legend()"
   ]
  },
  {
   "cell_type": "code",
   "execution_count": null,
   "metadata": {},
   "outputs": [],
   "source": []
  },
  {
   "cell_type": "code",
   "execution_count": null,
   "metadata": {},
   "outputs": [],
   "source": []
  },
  {
   "cell_type": "code",
   "execution_count": null,
   "metadata": {},
   "outputs": [],
   "source": []
  }
 ],
 "metadata": {
  "kernelspec": {
   "display_name": "Python 3",
   "language": "python",
   "name": "python3"
  },
  "language_info": {
   "codemirror_mode": {
    "name": "ipython",
    "version": 3
   },
   "file_extension": ".py",
   "mimetype": "text/x-python",
   "name": "python",
   "nbconvert_exporter": "python",
   "pygments_lexer": "ipython3",
   "version": "3.7.4"
  }
 },
 "nbformat": 4,
 "nbformat_minor": 4
}
