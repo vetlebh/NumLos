{
 "cells": [
  {
   "cell_type": "code",
   "execution_count": 1,
   "metadata": {},
   "outputs": [],
   "source": [
    "import numpy as np\n",
    "from matplotlib import pyplot as plt\n",
    "import time"
   ]
  },
  {
   "cell_type": "code",
   "execution_count": 2,
   "metadata": {},
   "outputs": [],
   "source": [
    "from mpl_toolkits.mplot3d import Axes3D\n",
    "from numpy import cos, sin"
   ]
  },
  {
   "cell_type": "code",
   "execution_count": 3,
   "metadata": {},
   "outputs": [
    {
     "ename": "ModuleNotFoundError",
     "evalue": "No module named 'scipy'",
     "output_type": "error",
     "traceback": [
      "\u001b[0;31m---------------------------------------------------------------------------\u001b[0m",
      "\u001b[0;31mModuleNotFoundError\u001b[0m                       Traceback (most recent call last)",
      "\u001b[0;32m<ipython-input-3-3583ed2e6950>\u001b[0m in \u001b[0;36m<module>\u001b[0;34m\u001b[0m\n\u001b[0;32m----> 1\u001b[0;31m \u001b[0;32mfrom\u001b[0m \u001b[0mscipy\u001b[0m\u001b[0;34m.\u001b[0m\u001b[0mlinalg\u001b[0m \u001b[0;32mimport\u001b[0m \u001b[0msolve\u001b[0m\u001b[0;34m\u001b[0m\u001b[0;34m\u001b[0m\u001b[0m\n\u001b[0m\u001b[1;32m      2\u001b[0m \u001b[0;32mimport\u001b[0m \u001b[0mscipy\u001b[0m\u001b[0;34m.\u001b[0m\u001b[0msparse\u001b[0m \u001b[0;32mas\u001b[0m \u001b[0msparse\u001b[0m\u001b[0;34m\u001b[0m\u001b[0;34m\u001b[0m\u001b[0m\n\u001b[1;32m      3\u001b[0m \u001b[0;32mfrom\u001b[0m \u001b[0mscipy\u001b[0m\u001b[0;34m.\u001b[0m\u001b[0msparse\u001b[0m\u001b[0;34m.\u001b[0m\u001b[0mlinalg\u001b[0m \u001b[0;32mimport\u001b[0m \u001b[0mspsolve\u001b[0m\u001b[0;34m\u001b[0m\u001b[0;34m\u001b[0m\u001b[0m\n",
      "\u001b[0;31mModuleNotFoundError\u001b[0m: No module named 'scipy'"
     ]
    }
   ],
   "source": [
    "from scipy.linalg import solve    \n",
    "import scipy.sparse as sparse\n",
    "from scipy.sparse.linalg import spsolve "
   ]
  },
  {
   "cell_type": "markdown",
   "metadata": {},
   "source": [
    "### Parameters"
   ]
  },
  {
   "cell_type": "code",
   "execution_count": null,
   "metadata": {},
   "outputs": [],
   "source": [
    "# Number of steps\n",
    "N = 10\n",
    "\n",
    "# mu\n",
    "mu = 1\n",
    "mu_d = 0.01"
   ]
  },
  {
   "cell_type": "code",
   "execution_count": null,
   "metadata": {},
   "outputs": [],
   "source": [
    "# Velocity field\n",
    "\n",
    "def v1(x, y):\n",
    "    return y\n",
    "    \n",
    "def v2(x, y):\n",
    "    return -x"
   ]
  },
  {
   "cell_type": "markdown",
   "metadata": {},
   "source": [
    "### Respective functions"
   ]
  },
  {
   "cell_type": "code",
   "execution_count": null,
   "metadata": {},
   "outputs": [],
   "source": [
    "#test function\n",
    "def u(x, y):\n",
    "    return sin(x)*sin(y)\n",
    "\n",
    "#insert test function into diffusion equation\n",
    "def f(x, y):\n",
    "    return 2*sin(x)*sin(y) + v1(x,y)*cos(x)*sin(y) + v2(x,y)*cos(y)*sin(x)\n",
    "\n",
    "#Dirchlet boundary conditions:\n",
    "# y = 1\n",
    "def g_n(x):\n",
    "    return u(x, 1)\n",
    "    \n",
    "# y = 0\n",
    "def g_s(x):\n",
    "    return u(x, 0)\n",
    "\n",
    "# x = 0\n",
    "def g_w(y):\n",
    "    return u(0, y)\n",
    "\n",
    "# x = 1\n",
    "def g_e(y):\n",
    "    return u(1, y)\n",
    "    "
   ]
  },
  {
   "cell_type": "markdown",
   "metadata": {},
   "source": [
    "### Build Diagonal Matrix"
   ]
  },
  {
   "cell_type": "code",
   "execution_count": null,
   "metadata": {},
   "outputs": [],
   "source": [
    "def A_and_b(h, mu, Ni, Ni2, N, x, y,):\n",
    "    \n",
    "    # Inner points\n",
    "    xi = x[1:-1]       \n",
    "    yi = y[1:-1] \n",
    "    Xi, Yi = np.meshgrid(xi, yi)\n",
    "    X, Y = np.meshgrid(x, y)\n",
    "    \n",
    "    V1 = v1(Xi, Yi)\n",
    "    V2 = v2(Xi, Yi)\n",
    "    \n",
    "    # Coefficients\n",
    "    a_p = (4 * mu) / h**2\n",
    "    a_e = (- mu/h**2 + V1/(2*h)).flatten()\n",
    "    a_n = (- mu/h**2 + V2/(2*h)).flatten()\n",
    "    a_w = (- mu/h**2 - V1/(2*h)).flatten()\n",
    "    a_s = (- mu/h**2 - V2/(2*h)).flatten()\n",
    "    \n",
    "    \n",
    "    # Add diagonals\n",
    "    diag = a_p * np.ones(Ni2)\n",
    "    A = np.diag(diag)\n",
    "    \n",
    "    diag1 = np.arange(Ni2-1)\n",
    "    A[diag1, diag1+1] = a_e[0:Ni2-1]\n",
    "    A[diag1+1, diag1] = a_w[1:Ni2]\n",
    "    \n",
    "    diag2 = np.arange(Ni2-Ni)\n",
    "    A[diag2, diag2+Ni] = a_n[0:Ni2-Ni]\n",
    "    A[diag2+Ni, diag2] = a_s[Ni:Ni2]\n",
    "    \n",
    "    \n",
    "    # Fill inn b vector\n",
    "    b = np.zeros(Ni2)\n",
    "    for j in range(Ni):\n",
    "        for i in range(Ni):\n",
    "            b[j*Ni + i] = f(xi[i], yi[j])\n",
    "    \n",
    "    V2_s = v2(X[0,1:-1], Y[0, 1:-1])\n",
    "    V1_w = v1(X[1:-1,0], Y[1:-1, 0])\n",
    "    V2_n = v2(X[N,1:-1], Y[N, 1:-1])\n",
    "    V1_e = v1(X[1:-1,N], Y[1:-1, N])\n",
    "    \n",
    "    \n",
    "    # Coefficients edges\n",
    "    a_e_edge = (- mu/h**2 + V1_e/(2*h)).flatten()\n",
    "    a_n_edge = (- mu/h**2 + V2_n/(2*h)).flatten()\n",
    "    a_w_edge = (- mu/h**2 - V1_w/(2*h)).flatten()\n",
    "    a_s_edge = (- mu/h**2 - V2_s/(2*h)).flatten()\n",
    "    \n",
    "    \n",
    "    # Include the boundary conditions\n",
    "    b[0:Ni] = b[0:Ni] - a_s_edge*g_s(xi)                        # y=0\n",
    "    b[Ni2-Ni:Ni2] = b[Ni2-Ni:Ni2] - a_n_edge*g_n(xi)            # y=1\n",
    "    b[0:Ni2:Ni] = b[0:Ni2:Ni] - a_w_edge*g_w(yi)                # x=0\n",
    "    b[Ni-1:Ni2:Ni] = b[Ni-1:Ni2:Ni] - a_e_edge*g_e(yi)          # x=1\n",
    "    \n",
    "    \n",
    "    return A, b"
   ]
  },
  {
   "cell_type": "markdown",
   "metadata": {},
   "source": [
    "### Solver Function"
   ]
  },
  {
   "cell_type": "code",
   "execution_count": null,
   "metadata": {},
   "outputs": [],
   "source": [
    "def pde_solve(N, mu, v1, v2):\n",
    "    \n",
    "    \n",
    "    # Time run\n",
    "    start = time.time()\n",
    "    \n",
    "    \n",
    "    # Step size\n",
    "    h = 1/N\n",
    "    \n",
    "    \n",
    "    # Make grid\n",
    "    x = np.linspace(0, 1, N+1)\n",
    "    y = np.linspace(0, 1, N+1) \n",
    "    X, Y = np.meshgrid(x, y)\n",
    "    Ni = N-1       # Number of inner points in each direction\n",
    "    Ni2 = Ni**2    # Number of inner points in total\n",
    "    \n",
    "    \n",
    "    # Exact Solution\n",
    "    U_exact = u(X, Y)\n",
    "    \n",
    "    \n",
    "    # Create A matrix\n",
    "    A, b = A_and_b(h, mu, Ni, Ni2, N, x, y)\n",
    "    \n",
    "    \n",
    "    # Handle interior stack-edges\n",
    "    for i in range(1, Ni):\n",
    "        edge = i*Ni\n",
    "        A[edge-1, edge] = 0\n",
    "        A[edge, edge-1] = 0\n",
    "    \n",
    "    \n",
    "    # Use sparce matrix format\n",
    "    A = sparse.csr_matrix(A)\n",
    "    A = A.tocsr()\n",
    "    \n",
    "    \n",
    "    # Solve system numerically\n",
    "    U = spsolve(A, b)\n",
    "    U = np.reshape(U, (Ni, Ni))\n",
    "    \n",
    "    \n",
    "    # Add edges to solution\n",
    "    U = np.pad(U, pad_width=1, mode='constant', constant_values=0)\n",
    "    U[0, :] = g_s(x)\n",
    "    U[N, :] = g_n(x)\n",
    "    U[:, 0] = g_w(y)\n",
    "    U[:, N] = g_e(y)\n",
    "    \n",
    "    error = np.max(np.max(abs(U-U_exact)))\n",
    "    \n",
    "    \n",
    "    #Print the error\n",
    "    print(f'The steplength is {1}/{N}. The error is: {error}. Runtime total: {time.time()-start}')\n",
    "    \n",
    "    return U, U_exact, X, Y, h"
   ]
  },
  {
   "cell_type": "markdown",
   "metadata": {},
   "source": [
    "### Solutions"
   ]
  },
  {
   "cell_type": "code",
   "execution_count": null,
   "metadata": {},
   "outputs": [],
   "source": [
    "U, U_exact, X, Y, h = pde_solve(100, mu2, v1, v2)"
   ]
  },
  {
   "cell_type": "markdown",
   "metadata": {},
   "source": [
    "### Plot Results"
   ]
  },
  {
   "cell_type": "code",
   "execution_count": null,
   "metadata": {},
   "outputs": [],
   "source": [
    "fig, (ax1, ax2) = plt.subplots(1, 2, figsize=(12,5))\n",
    "ax1.contourf(X, Y, U)\n",
    "ax1.title.set_text('Numerical Solution')\n",
    "ax2.contourf(X, Y, U_exact)\n",
    "ax2.title.set_text('Exact Solution')"
   ]
  },
  {
   "cell_type": "code",
   "execution_count": null,
   "metadata": {},
   "outputs": [],
   "source": [
    "fig= plt.figure()\n",
    "ax = fig.add_subplot(111, projection='3d')\n",
    "ax.plot_surface(X, Y, U)"
   ]
  },
  {
   "cell_type": "code",
   "execution_count": null,
   "metadata": {},
   "outputs": [],
   "source": [
    "# We want to measure the error for different stepsizes. \n",
    "\n",
    "def convergence(P, N, mu=1, v1=0, v2=0):\n",
    "    P = P   # Number of different stepsizes\n",
    "    Hconv = np.zeros(P) #list of stepsizes (x-axis)\n",
    "    Econv = np.zeros(P) #list of errors (y-axis)\n",
    "    N = N  # The least number of intervals (#grid points-1)\n",
    "    for p in range(P):\n",
    "        U, U_exact, X, Y, h = pde_solve(N, mu, v1, v2)\n",
    "        Eh = U_exact-U \n",
    "        Econv[p] = np.max(np.abs(Eh))\n",
    "        Hconv[p] = h #the stepsize for y and x direction are the same\n",
    "        N = N*2  # Double the number of intervals\n",
    "    order = np.polyfit(np.log(Hconv),np.log(Econv),1)[0]   # Measure the order - returns highest power first\n",
    "    return Hconv, Econv, order"
   ]
  },
  {
   "cell_type": "code",
   "execution_count": null,
   "metadata": {},
   "outputs": [],
   "source": [
    "#convergence plot\n",
    "H, E, p = convergence(8, 2)\n",
    "plt.loglog(H,E,'o-', label='p={:.2f}'.format(p))\n",
    "#plt.loglog(H,H*np.exp(1),'--',label='upper bound') # theoretical upper bound for test function\n",
    "plt.grid('on')\n",
    "plt.xlabel('h')\n",
    "plt.ylabel('error')\n",
    "plt.legend()"
   ]
  }
 ],
 "metadata": {
  "kernelspec": {
   "display_name": "Python 3",
   "language": "python",
   "name": "python3"
  },
  "language_info": {
   "codemirror_mode": {
    "name": "ipython",
    "version": 3
   },
   "file_extension": ".py",
   "mimetype": "text/x-python",
   "name": "python",
   "nbconvert_exporter": "python",
   "pygments_lexer": "ipython3",
   "version": "3.7.4"
  }
 },
 "nbformat": 4,
 "nbformat_minor": 4
}
