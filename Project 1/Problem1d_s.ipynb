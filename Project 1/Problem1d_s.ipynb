{
 "cells": [
  {
   "cell_type": "code",
   "execution_count": 22,
   "metadata": {},
   "outputs": [],
   "source": [
    "import numpy as np\n",
    "from matplotlib import pyplot as plt"
   ]
  },
  {
   "cell_type": "markdown",
   "metadata": {},
   "source": [
    "### Parameters"
   ]
  },
  {
   "cell_type": "code",
   "execution_count": 23,
   "metadata": {},
   "outputs": [],
   "source": [
    "# Number of steps\n",
    "N = 4\n",
    "\n",
    "# mu\n",
    "mu = 0.01\n",
    "\n",
    "# v vector\n",
    "v1 = 0\n",
    "v2 = 0"
   ]
  },
  {
   "cell_type": "markdown",
   "metadata": {},
   "source": [
    "### Respective functions"
   ]
  },
  {
   "cell_type": "code",
   "execution_count": 24,
   "metadata": {},
   "outputs": [],
   "source": [
    "def f(x, y):\n",
    "    return 1\n",
    "\n",
    "# y = 1\n",
    "def g_n(x):\n",
    "    return 0\n",
    "\n",
    "# y = 0\n",
    "def g_s(x):\n",
    "    return 0\n",
    "\n",
    "# x = 0\n",
    "def g_w(y):\n",
    "    return 0\n",
    "\n",
    "# x = 1\n",
    "def g_e(y):\n",
    "    return 0\n",
    "    "
   ]
  },
  {
   "cell_type": "markdown",
   "metadata": {},
   "source": [
    "### Build Diagonal Matrix"
   ]
  },
  {
   "cell_type": "code",
   "execution_count": 25,
   "metadata": {},
   "outputs": [],
   "source": [
    "def A_matrix(h, mu, Ni, Ni2, a_p, a_s, a_w, a_e, a_n):\n",
    "    \n",
    "    A_0  = a_p  * np.eye(Ni2, k=0)\n",
    "    A_R1 = a_e * np.eye(Ni2, k=1)\n",
    "    A_RN = a_n * np.eye(Ni2, k=Ni)\n",
    "    A_L1 = a_w * np.eye(Ni2, k=-1)\n",
    "    A_LN = a_s * np.eye(Ni2, k=-Ni)\n",
    "    \n",
    "    return A_0 + A_R1 + A_RN + A_L1 + A_LN"
   ]
  },
  {
   "cell_type": "markdown",
   "metadata": {},
   "source": [
    "### Solver Function"
   ]
  },
  {
   "cell_type": "code",
   "execution_count": 26,
   "metadata": {},
   "outputs": [],
   "source": [
    "def pde_solve(N, mu, v1, v2):\n",
    "    \n",
    "    # Step size\n",
    "    h = 1/N\n",
    "    \n",
    "    # Make grid\n",
    "    x = np.linspace(0, 1, N+1)\n",
    "    y = np.linspace(0, 1, N+1) \n",
    "\n",
    "    # Inner points\n",
    "    xi = x[1:-1]       \n",
    "    yi = y[1:-1] \n",
    "    Xi, Yi = np.meshgrid(xi, yi)\n",
    "    Ni = N-1       # Number of inner points in each direction\n",
    "    Ni2 = Ni**2    # Number of inner points in total\n",
    "    \n",
    "    # Exact Solution (MUST BE CHANGED IF U IS CHANGED)\n",
    "    #U_exact = Xi**2 + 2*Yi**2\n",
    "    \n",
    "    # Coefficients\n",
    "    a_p = (4 * mu) / h**2\n",
    "    a_e = - mu/h**2 + v1/(2*h)\n",
    "    a_n = - mu/h**2 + v2/(2*h)\n",
    "    a_w = - mu/h**2 - v1/(2*h)\n",
    "    a_s = - mu/h**2 - v2/(2*h)\n",
    "    \n",
    "    # Create A matrix\n",
    "    A = A_matrix(h, mu, Ni, Ni2, a_p, a_s, a_w, a_e, a_n)\n",
    "    \n",
    "    # Handle interior stack-edges\n",
    "    for i in range(1, Ni):\n",
    "        edge = i*Ni\n",
    "        A[edge-1, edge] = 0\n",
    "        A[edge, edge-1] = 0\n",
    "            \n",
    "    # Fill inn b vector\n",
    "    b = np.zeros(Ni2)\n",
    "    for j in range(Ni):\n",
    "        for i in range(Ni):\n",
    "            b[j*Ni + i] = f(x[i+1], y[j+1])\n",
    "        \n",
    "    # Include the boundary conditions\n",
    "    b[0:Ni] = b[0:Ni] - a_s*g_s(xi)                        # y=0\n",
    "    b[Ni2-Ni:Ni2] = b[Ni2-Ni:Ni2] - a_n*g_n(xi)            # y=1\n",
    "    b[0:Ni2:Ni] = b[0:Ni2:Ni] - a_w*g_w(yi)                # x=0\n",
    "    b[Ni-1:Ni2:Ni] = b[Ni-1:Ni2:Ni] - a_e*g_e(yi)          # x=1\n",
    "    \n",
    "    # Solve system numerically\n",
    "    U = np.linalg.solve(A, b)\n",
    "    U = np.reshape(U, (Ni, Ni))\n",
    "    \n",
    "\n",
    "    return U, Xi, Yi"
   ]
  },
  {
   "cell_type": "markdown",
   "metadata": {},
   "source": [
    "### Solutions"
   ]
  },
  {
   "cell_type": "code",
   "execution_count": 29,
   "metadata": {},
   "outputs": [
    {
     "name": "stdout",
     "output_type": "stream",
     "text": [
      "[[1.28130983 2.06261966 2.53971336 2.79994256 2.88282917 2.79994256\n",
      "  2.53971336 2.06261966 1.28130983]\n",
      " [2.06261966 3.42945545 4.29629123 4.77722772 4.93143154 4.77722772\n",
      "  4.29629123 3.42945545 2.06261966]\n",
      " [2.53971336 4.29629123 5.43876839 6.08124556 6.28844155 6.08124556\n",
      "  5.43876839 4.29629123 2.53971336]\n",
      " [2.79994256 4.77722772 6.08124556 6.82054455 7.05984355 6.82054455\n",
      "  6.08124556 4.77722772 2.79994256]\n",
      " [2.88282917 4.93143154 6.28844155 7.05984355 7.30984355 7.05984355\n",
      "  6.28844155 4.93143154 2.88282917]\n",
      " [2.79994256 4.77722772 6.08124556 6.82054455 7.05984355 6.82054455\n",
      "  6.08124556 4.77722772 2.79994256]\n",
      " [2.53971336 4.29629123 5.43876839 6.08124556 6.28844155 6.08124556\n",
      "  5.43876839 4.29629123 2.53971336]\n",
      " [2.06261966 3.42945545 4.29629123 4.77722772 4.93143154 4.77722772\n",
      "  4.29629123 3.42945545 2.06261966]\n",
      " [1.28130983 2.06261966 2.53971336 2.79994256 2.88282917 2.79994256\n",
      "  2.53971336 2.06261966 1.28130983]]\n"
     ]
    }
   ],
   "source": [
    "U, Xi, Yi = pde_solve(10, mu, v1, v2)\n",
    "print(U)"
   ]
  },
  {
   "cell_type": "markdown",
   "metadata": {},
   "source": [
    "### Plot Results"
   ]
  },
  {
   "cell_type": "code",
   "execution_count": 28,
   "metadata": {},
   "outputs": [
    {
     "data": {
      "image/png": "[encoded data removed]",
      "text/plain": [
       "<Figure size 864x360 with 2 Axes>"
      ]
     },
     "metadata": {
      "needs_background": "light"
     },
     "output_type": "display_data"
    }
   ],
   "source": [
    "fig, (ax1, ax2) = plt.subplots(1, 2, figsize=(12,5))\n",
    "ax1.contourf(Xi, Yi, U)\n",
    "ax1.title.set_text('Numerical Solution')\n",
    "#ax2.contourf(Xi, Yi, U_exact)\n",
    "#ax2.title.set_text('Exact Solution')"
   ]
  }
 ],
 "metadata": {
  "kernelspec": {
   "display_name": "Python 3",
   "language": "python",
   "name": "python3"
  },
  "language_info": {
   "codemirror_mode": {
    "name": "ipython",
    "version": 3
   },
   "file_extension": ".py",
   "mimetype": "text/x-python",
   "name": "python",
   "nbconvert_exporter": "python",
   "pygments_lexer": "ipython3",
   "version": "3.7.4"
  }
 },
 "nbformat": 4,
 "nbformat_minor": 4
}
