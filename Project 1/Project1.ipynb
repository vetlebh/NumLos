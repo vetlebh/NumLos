{
 "cells": [
  {
   "cell_type": "code",
   "execution_count": 1,
   "metadata": {},
   "outputs": [],
   "source": [
    "import numpy as np\n",
    "from matplotlib import pyplot as plt"
   ]
  },
  {
   "cell_type": "markdown",
   "metadata": {},
   "source": [
    "### Parameters"
   ]
  },
  {
   "cell_type": "code",
   "execution_count": 2,
   "metadata": {},
   "outputs": [],
   "source": [
    "# Number of steps\n",
    "N = 4\n",
    "\n",
    "# Step size\n",
    "h = 1/N\n",
    "\n",
    "# mu\n",
    "mu = 1\n",
    "\n",
    "# v vector\n",
    "v1 = 0\n",
    "v2 = 0"
   ]
  },
  {
   "cell_type": "markdown",
   "metadata": {},
   "source": [
    "### Grid"
   ]
  },
  {
   "cell_type": "code",
   "execution_count": 5,
   "metadata": {},
   "outputs": [],
   "source": [
    "# Make grid\n",
    "x = np.linspace(0, 1, N+1)\n",
    "y = np.linspace(0, 1, N+1) \n",
    "\n",
    "# Inner points\n",
    "xi = x[1:-1]       \n",
    "yi = y[1:-1] \n",
    "Xi, Yi = np.meshgrid(xi, yi)\n",
    "Ni = N-1       # Number of inner points in each direction\n",
    "Ni2 = Ni**2    # Number of inner points in total"
   ]
  },
  {
   "cell_type": "code",
   "execution_count": 46,
   "metadata": {},
   "outputs": [
    {
     "data": {
      "text/plain": [
       "(array([[0.25, 0.5 , 0.75],\n",
       "        [0.25, 0.5 , 0.75],\n",
       "        [0.25, 0.5 , 0.75]]), array([[0.25, 0.25, 0.25],\n",
       "        [0.5 , 0.5 , 0.5 ],\n",
       "        [0.75, 0.75, 0.75]]))"
      ]
     },
     "execution_count": 46,
     "metadata": {},
     "output_type": "execute_result"
    }
   ],
   "source": [
    "# Note that the y-dimensioned is mirrored\n",
    "Xi, Yi"
   ]
  },
  {
   "cell_type": "markdown",
   "metadata": {},
   "source": [
    "### Respective functions"
   ]
  },
  {
   "cell_type": "code",
   "execution_count": 4,
   "metadata": {},
   "outputs": [],
   "source": [
    "def u(x, y):\n",
    "    return x**2 + 2*(y**2)\n",
    "\n",
    "def f(x, y):\n",
    "    return -6\n",
    "\n",
    "# y = 1\n",
    "def g_n(x):\n",
    "    return x**2 + 2\n",
    "\n",
    "# y = 0\n",
    "def g_s(x):\n",
    "    return x**2\n",
    "\n",
    "# x = 0\n",
    "def g_w(y):\n",
    "    return 2*(y**2)\n",
    "\n",
    "# x = 1\n",
    "def g_e(y):\n",
    "    return 1 + 2*(y**2)\n",
    "    "
   ]
  },
  {
   "cell_type": "code",
   "execution_count": 3,
   "metadata": {},
   "outputs": [],
   "source": [
    "# Coefficients\n",
    "a_p = (4 * mu) / h**2\n",
    "a_e = - mu/h**2 + v1/(2*h)\n",
    "a_n = - mu/h**2 + v2/(2*h)\n",
    "a_w = - mu/h**2 - v1/(2*h)\n",
    "a_s = - mu/h**2 - v2/(2*h)"
   ]
  },
  {
   "cell_type": "markdown",
   "metadata": {},
   "source": [
    "### Exact Solution"
   ]
  },
  {
   "cell_type": "code",
   "execution_count": null,
   "metadata": {},
   "outputs": [],
   "source": [
    "U_exact = Xi**2 + 2*Yi**2"
   ]
  },
  {
   "cell_type": "markdown",
   "metadata": {},
   "source": [
    "### Build Diagonal Matrix"
   ]
  },
  {
   "cell_type": "code",
   "execution_count": 7,
   "metadata": {},
   "outputs": [],
   "source": [
    "def A_matrix(h, mu, Ni, Ni2, a_p, a_s, a_w, a_e, a_n):\n",
    "    \n",
    "    A_0  = a_p  * np.eye(Ni2, k=0)\n",
    "    A_R1 = a_e * np.eye(Ni2, k=1)\n",
    "    A_RN = a_n * np.eye(Ni2, k=Ni)\n",
    "    A_L1 = a_w * np.eye(Ni2, k=-1)\n",
    "    A_LN = a_s * np.eye(Ni2, k=-Ni)\n",
    "    \n",
    "    return A_0 + A_R1 + A_RN + A_L1 + A_LN"
   ]
  },
  {
   "cell_type": "code",
   "execution_count": 8,
   "metadata": {},
   "outputs": [
    {
     "data": {
      "text/plain": [
       "array([[ 64., -16.,   0., -16.,   0.,   0.,   0.,   0.,   0.],\n",
       "       [-16.,  64., -16.,   0., -16.,   0.,   0.,   0.,   0.],\n",
       "       [  0., -16.,  64., -16.,   0., -16.,   0.,   0.,   0.],\n",
       "       [-16.,   0., -16.,  64., -16.,   0., -16.,   0.,   0.],\n",
       "       [  0., -16.,   0., -16.,  64., -16.,   0., -16.,   0.],\n",
       "       [  0.,   0., -16.,   0., -16.,  64., -16.,   0., -16.],\n",
       "       [  0.,   0.,   0., -16.,   0., -16.,  64., -16.,   0.],\n",
       "       [  0.,   0.,   0.,   0., -16.,   0., -16.,  64., -16.],\n",
       "       [  0.,   0.,   0.,   0.,   0., -16.,   0., -16.,  64.]])"
      ]
     },
     "execution_count": 8,
     "metadata": {},
     "output_type": "execute_result"
    }
   ],
   "source": [
    "A = A_matrix(h, mu, Ni, Ni2, a_p, a_s, a_w, a_e, a_n)\n",
    "A"
   ]
  },
  {
   "cell_type": "code",
   "execution_count": 25,
   "metadata": {},
   "outputs": [
    {
     "data": {
      "text/plain": [
       "array([[ 64., -16.,   0., -16.,   0.,   0.,   0.,   0.,   0.],\n",
       "       [-16.,  64., -16.,   0., -16.,   0.,   0.,   0.,   0.],\n",
       "       [  0., -16.,  64.,   0.,   0., -16.,   0.,   0.,   0.],\n",
       "       [-16.,   0.,   0.,  64., -16.,   0., -16.,   0.,   0.],\n",
       "       [  0., -16.,   0., -16.,  64., -16.,   0., -16.,   0.],\n",
       "       [  0.,   0., -16.,   0., -16.,  64.,   0.,   0., -16.],\n",
       "       [  0.,   0.,   0., -16.,   0.,   0.,  64., -16.,   0.],\n",
       "       [  0.,   0.,   0.,   0., -16.,   0., -16.,  64., -16.],\n",
       "       [  0.,   0.,   0.,   0.,   0., -16.,   0., -16.,  64.]])"
      ]
     },
     "execution_count": 25,
     "metadata": {},
     "output_type": "execute_result"
    }
   ],
   "source": [
    "# Handle interior edges\n",
    "\n",
    "A[2, 3] = 0\n",
    "A[3, 2] = 0\n",
    "A[5, 6] = 0\n",
    "A[6, 5] = 0\n",
    "\n",
    "A"
   ]
  },
  {
   "cell_type": "markdown",
   "metadata": {},
   "source": [
    "### Create f(x, y)"
   ]
  },
  {
   "cell_type": "code",
   "execution_count": 26,
   "metadata": {},
   "outputs": [
    {
     "name": "stdout",
     "output_type": "stream",
     "text": [
      "[-3. -2. 21.  2. -6. 18. 45. 30. 69.]\n"
     ]
    }
   ],
   "source": [
    "b = np.zeros(Ni2)\n",
    "for j in range(Ni):\n",
    "    for i in range(Ni):\n",
    "        b[j*Ni + i] = f(x[i+1], y[j+1])\n",
    "        \n",
    "# Include the boundary conditions\n",
    "b[0:Ni] = b[0:Ni] - a_s*g_s(xi)                        # y=0\n",
    "b[Ni2-Ni:Ni2] = b[Ni2-Ni:Ni2] - a_n*g_n(xi)            # y=1\n",
    "b[0:Ni2:Ni] = b[0:Ni2:Ni] - a_w*g_w(yi)                # x=0\n",
    "b[Ni-1:Ni2:Ni] = b[Ni-1:Ni2:Ni] - a_e*g_e(yi)          # x=1\n",
    "\n",
    "print(b)"
   ]
  },
  {
   "cell_type": "markdown",
   "metadata": {},
   "source": [
    "### Solve system"
   ]
  },
  {
   "cell_type": "code",
   "execution_count": 30,
   "metadata": {},
   "outputs": [],
   "source": [
    "U = np.linalg.solve(A, b)"
   ]
  },
  {
   "cell_type": "code",
   "execution_count": 42,
   "metadata": {},
   "outputs": [],
   "source": [
    "U = np.reshape(U, (Ni, Ni))"
   ]
  },
  {
   "cell_type": "code",
   "execution_count": 43,
   "metadata": {},
   "outputs": [
    {
     "data": {
      "text/plain": [
       "array([[0.1875, 0.375 , 0.6875],\n",
       "       [0.5625, 0.75  , 1.0625],\n",
       "       [1.1875, 1.375 , 1.6875]])"
      ]
     },
     "execution_count": 43,
     "metadata": {},
     "output_type": "execute_result"
    }
   ],
   "source": [
    "U"
   ]
  },
  {
   "cell_type": "code",
   "execution_count": 41,
   "metadata": {},
   "outputs": [
    {
     "data": {
      "text/plain": [
       "array([[0.1875, 0.375 , 0.6875],\n",
       "       [0.5625, 0.75  , 1.0625],\n",
       "       [1.1875, 1.375 , 1.6875]])"
      ]
     },
     "execution_count": 41,
     "metadata": {},
     "output_type": "execute_result"
    }
   ],
   "source": [
    "U_exact"
   ]
  },
  {
   "cell_type": "code",
   "execution_count": 52,
   "metadata": {},
   "outputs": [
    {
     "name": "stdout",
     "output_type": "stream",
     "text": [
      "\n",
      "U=\n",
      " [[0.1875 0.375  0.6875]\n",
      " [0.5625 0.75   1.0625]\n",
      " [1.1875 1.375  1.6875]]\n",
      "The error is 2.22e-16\n"
     ]
    }
   ],
   "source": [
    "print('\\nU=\\n', U)\n",
    "print('The error is {:.2e}'.format(np.max(np.max(abs(U-U_exact)))))"
   ]
  },
  {
   "cell_type": "markdown",
   "metadata": {},
   "source": [
    "### Plot Results"
   ]
  },
  {
   "cell_type": "code",
   "execution_count": 50,
   "metadata": {},
   "outputs": [
    {
     "data": {
      "image/png": "[encoded data removed]",
      "text/plain": [
       "<Figure size 432x288 with 1 Axes>"
      ]
     },
     "metadata": {
      "needs_background": "light"
     },
     "output_type": "display_data"
    }
   ],
   "source": [
    "fig = plt.figure()\n",
    "plt.contourf(Xi, Yi, U)\n",
    "plt.title(\"Numerical Solution\")\n",
    "plt.show()"
   ]
  },
  {
   "cell_type": "code",
   "execution_count": 51,
   "metadata": {},
   "outputs": [
    {
     "data": {
      "image/png": "[encoded data removed]",
      "text/plain": [
       "<Figure size 432x288 with 1 Axes>"
      ]
     },
     "metadata": {
      "needs_background": "light"
     },
     "output_type": "display_data"
    }
   ],
   "source": [
    "fig = plt.figure()\n",
    "plt.contourf(Xi, Yi, U_exact)\n",
    "plt.title(\"Exact Solution\")\n",
    "plt.show()"
   ]
  }
 ],
 "metadata": {
  "kernelspec": {
   "display_name": "Python 3",
   "language": "python",
   "name": "python3"
  },
  "language_info": {
   "codemirror_mode": {
    "name": "ipython",
    "version": 3
   },
   "file_extension": ".py",
   "mimetype": "text/x-python",
   "name": "python",
   "nbconvert_exporter": "python",
   "pygments_lexer": "ipython3",
   "version": "3.8.1"
  }
 },
 "nbformat": 4,
 "nbformat_minor": 4
}
